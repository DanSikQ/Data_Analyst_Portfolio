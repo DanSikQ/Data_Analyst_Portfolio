{
 "cells": [
  {
   "cell_type": "code",
   "id": "initial_id",
   "metadata": {
    "collapsed": true,
    "ExecuteTime": {
     "end_time": "2025-04-26T17:38:51.240727Z",
     "start_time": "2025-04-26T17:38:51.228306Z"
    }
   },
   "source": [
    "import pandas as pd\n",
    "import numpy as np\n",
    "import matplotlib.pyplot as plt\n",
    "\n",
    "pd.DataFrame(np.random.randn(10, 5))"
   ],
   "outputs": [
    {
     "data": {
      "text/plain": [
       "          0         1         2         3         4\n",
       "0  1.113931  0.464679 -0.360956 -0.389126 -0.056491\n",
       "1  0.939227 -0.615668 -0.078678 -2.369217  0.866971\n",
       "2  0.889340 -0.390334 -0.759400 -1.414247 -0.368626\n",
       "3 -0.427878 -0.195898 -1.024058 -0.296716  1.455458\n",
       "4 -0.138395  0.420237 -1.285951 -0.605002  0.758765\n",
       "5 -1.372229 -0.636515  0.669176 -0.914336  1.233803\n",
       "6 -0.677040  1.703747 -0.777161 -1.233016 -0.509863\n",
       "7 -0.204844  0.022759 -0.168865  0.708447  0.059478\n",
       "8  1.142339 -1.629172 -0.511160  0.229609 -1.200298\n",
       "9 -0.725871  0.484189  0.334150  1.515724  2.700791"
      ],
      "text/html": [
       "<div>\n",
       "<style scoped>\n",
       "    .dataframe tbody tr th:only-of-type {\n",
       "        vertical-align: middle;\n",
       "    }\n",
       "\n",
       "    .dataframe tbody tr th {\n",
       "        vertical-align: top;\n",
       "    }\n",
       "\n",
       "    .dataframe thead th {\n",
       "        text-align: right;\n",
       "    }\n",
       "</style>\n",
       "<table border=\"1\" class=\"dataframe\">\n",
       "  <thead>\n",
       "    <tr style=\"text-align: right;\">\n",
       "      <th></th>\n",
       "      <th>0</th>\n",
       "      <th>1</th>\n",
       "      <th>2</th>\n",
       "      <th>3</th>\n",
       "      <th>4</th>\n",
       "    </tr>\n",
       "  </thead>\n",
       "  <tbody>\n",
       "    <tr>\n",
       "      <th>0</th>\n",
       "      <td>1.113931</td>\n",
       "      <td>0.464679</td>\n",
       "      <td>-0.360956</td>\n",
       "      <td>-0.389126</td>\n",
       "      <td>-0.056491</td>\n",
       "    </tr>\n",
       "    <tr>\n",
       "      <th>1</th>\n",
       "      <td>0.939227</td>\n",
       "      <td>-0.615668</td>\n",
       "      <td>-0.078678</td>\n",
       "      <td>-2.369217</td>\n",
       "      <td>0.866971</td>\n",
       "    </tr>\n",
       "    <tr>\n",
       "      <th>2</th>\n",
       "      <td>0.889340</td>\n",
       "      <td>-0.390334</td>\n",
       "      <td>-0.759400</td>\n",
       "      <td>-1.414247</td>\n",
       "      <td>-0.368626</td>\n",
       "    </tr>\n",
       "    <tr>\n",
       "      <th>3</th>\n",
       "      <td>-0.427878</td>\n",
       "      <td>-0.195898</td>\n",
       "      <td>-1.024058</td>\n",
       "      <td>-0.296716</td>\n",
       "      <td>1.455458</td>\n",
       "    </tr>\n",
       "    <tr>\n",
       "      <th>4</th>\n",
       "      <td>-0.138395</td>\n",
       "      <td>0.420237</td>\n",
       "      <td>-1.285951</td>\n",
       "      <td>-0.605002</td>\n",
       "      <td>0.758765</td>\n",
       "    </tr>\n",
       "    <tr>\n",
       "      <th>5</th>\n",
       "      <td>-1.372229</td>\n",
       "      <td>-0.636515</td>\n",
       "      <td>0.669176</td>\n",
       "      <td>-0.914336</td>\n",
       "      <td>1.233803</td>\n",
       "    </tr>\n",
       "    <tr>\n",
       "      <th>6</th>\n",
       "      <td>-0.677040</td>\n",
       "      <td>1.703747</td>\n",
       "      <td>-0.777161</td>\n",
       "      <td>-1.233016</td>\n",
       "      <td>-0.509863</td>\n",
       "    </tr>\n",
       "    <tr>\n",
       "      <th>7</th>\n",
       "      <td>-0.204844</td>\n",
       "      <td>0.022759</td>\n",
       "      <td>-0.168865</td>\n",
       "      <td>0.708447</td>\n",
       "      <td>0.059478</td>\n",
       "    </tr>\n",
       "    <tr>\n",
       "      <th>8</th>\n",
       "      <td>1.142339</td>\n",
       "      <td>-1.629172</td>\n",
       "      <td>-0.511160</td>\n",
       "      <td>0.229609</td>\n",
       "      <td>-1.200298</td>\n",
       "    </tr>\n",
       "    <tr>\n",
       "      <th>9</th>\n",
       "      <td>-0.725871</td>\n",
       "      <td>0.484189</td>\n",
       "      <td>0.334150</td>\n",
       "      <td>1.515724</td>\n",
       "      <td>2.700791</td>\n",
       "    </tr>\n",
       "  </tbody>\n",
       "</table>\n",
       "</div>"
      ]
     },
     "execution_count": 2,
     "metadata": {},
     "output_type": "execute_result"
    }
   ],
   "execution_count": 2
  },
  {
   "metadata": {
    "ExecuteTime": {
     "end_time": "2025-04-26T17:38:53.735398Z",
     "start_time": "2025-04-26T17:38:53.538200Z"
    }
   },
   "cell_type": "code",
   "source": "plt.plot(np.arange(10))",
   "id": "b2e169160a380405",
   "outputs": [
    {
     "data": {
      "text/plain": [
       "[<matplotlib.lines.Line2D at 0x22fefab54c0>]"
      ]
     },
     "execution_count": 3,
     "metadata": {},
     "output_type": "execute_result"
    },
    {
     "data": {
      "text/plain": [
       "<Figure size 640x480 with 1 Axes>"
      ],
      "image/png": "[encoded data removed]"
     },
     "metadata": {},
     "output_type": "display_data"
    }
   ],
   "execution_count": 3
  },
  {
   "metadata": {},
   "cell_type": "code",
   "outputs": [],
   "execution_count": null,
   "source": "",
   "id": "32f0ab31452cb1a"
  }
 ],
 "metadata": {
  "kernelspec": {
   "display_name": "Python 3",
   "language": "python",
   "name": "python3"
  },
  "language_info": {
   "codemirror_mode": {
    "name": "ipython",
    "version": 2
   },
   "file_extension": ".py",
   "mimetype": "text/x-python",
   "name": "python",
   "nbconvert_exporter": "python",
   "pygments_lexer": "ipython2",
   "version": "2.7.6"
  }
 },
 "nbformat": 4,
 "nbformat_minor": 5
}
