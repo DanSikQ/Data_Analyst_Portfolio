{
 "cells": [
  {
   "metadata": {},
   "cell_type": "raw",
   "source": [
    "CLIENTNUM - Уникальный идентификатор для клиента, держащего учетную запись\n",
    "Attrition_Flag - Внутреннее событие (активность клиента) переменная - если учетная запись закрыта, то 1 еще 0 (целевая переменная)\n",
    "Customer_age - возраст клиента\n",
    "Gender - m = мужчина, f = женщина\n",
    "Dependent_count - количество иждивенцев\n",
    "Education_level образовательная квалификация владельца счета (пример: средняя школа, выпускник колледжа и т. Д.)\n",
    "Marital_Status - Демографическая переменная - женат, одинокий, разведенный, неизвестный\n",
    "income_category- Демографическая переменная - категория годовой доход владельца счета (<40 тыс. Долл. США, 40 тыс. - 60 тысяч, 60 тыс. - 80 тыс. Долл. США, 80 тыс. Долл. США,> 120 тыс. Долл. США, неизвестно)\n",
    "Card_category Переменная продукта - тип карты (синий, серебро, золото, платина) \n",
    "MOnth_ON_Book - Период отношений с банком (целевая переменная для регрессии)\n",
    "total_relationship_count - Всего продуктов, принадлежащих клиенту\n",
    "'months_inactive_12_mon' - Количество месяцев неактивных за последние 12 месяцев\n",
    "'contacts_count_12_mon' - Количество контактов за последние 12 месяцев\n",
    "'credit_limit'- Кредитный лимит на кредитной карте \n",
    "'total_revolving_bal' - Общий оборотный баланс на кредитной карте\n",
    "'avg_open_to_buy - Открыт, чтобы купить кредитную линию (в среднем за последние 12 месяцев) )\n",
    "'total_amt_chng_q4_q1' - Изменение суммы транзакции (Q4 по сравнению с Q1) \n",
    "'total_trans_amt' - Общая сумма транзакции (последние 12 месяцев)\n",
    "'total_trans_ct - Общее количество транзакций (последние 12 месяцев) \n",
    "'total_ct_chng_q4_q1' - Изменение количества транзакций (Q4 над Q1) \n",
    "'avg_utilization_ratio' - Средний коэффициент использования карт 1"
   ],
   "id": "1de1b568c17d7439"
  },
  {
   "metadata": {
    "collapsed": true,
    "ExecuteTime": {
     "end_time": "2025-04-26T17:42:09.223522Z",
     "start_time": "2025-04-26T17:42:08.607560Z"
    }
   },
   "cell_type": "code",
   "outputs": [],
   "execution_count": 1,
   "source": [
    "from sklearn.cluster import KMeans, DBSCAN, AgglomerativeClustering\n",
    "from sklearn.metrics import silhouette_samples, silhouette_score, davies_bouldin_score, accuracy_score\n",
    "from sklearn.feature_selection import SelectKBest, chi2\n",
    "from sklearn.preprocessing import KBinsDiscretizer, StandardScaler, RobustScaler, LabelEncoder\n",
    "from sklearn.neighbors import NearestNeighbors\n",
    "from sklearn.ensemble import IsolationForest\n",
    "from sklearn.decomposition import PCA\n",
    "\n",
    "\n",
    "import pandas as pd\n",
    "import numpy as np\n",
    "import seaborn as sns\n",
    "import matplotlib.pyplot as plt\n",
    "import scipy.stats"
   ],
   "id": "initial_id"
  },
  {
   "metadata": {},
   "cell_type": "markdown",
   "source": "## Загрузка датасета",
   "id": "e6792fc12c708b3"
  },
  {
   "metadata": {
    "ExecuteTime": {
     "end_time": "2025-04-26T17:42:18.969151Z",
     "start_time": "2025-04-26T17:42:18.903844Z"
    }
   },
   "cell_type": "code",
   "source": [
    "credit = pd.read_csv('BankChurners.csv') # https://www.kaggle.com/datasets/sakshigoyal7/credit-card-customers/data\n",
    "credit = credit.drop(columns = credit.columns[-2:])\n",
    "credit.columns = credit.columns.str.lower()"
   ],
   "id": "b55bd80cfc23bac3",
   "outputs": [],
   "execution_count": 2
  },
  {
   "metadata": {
    "ExecuteTime": {
     "end_time": "2025-04-26T17:42:28.247611Z",
     "start_time": "2025-04-26T17:42:28.232181Z"
    }
   },
   "cell_type": "code",
   "source": "credit.isnull().sum() # нулевых значений нет",
   "id": "3ccf9d9764971ba0",
   "outputs": [
    {
     "data": {
      "text/plain": [
       "clientnum                   0\n",
       "attrition_flag              0\n",
       "customer_age                0\n",
       "gender                      0\n",
       "dependent_count             0\n",
       "education_level             0\n",
       "marital_status              0\n",
       "income_category             0\n",
       "card_category               0\n",
       "months_on_book              0\n",
       "total_relationship_count    0\n",
       "months_inactive_12_mon      0\n",
       "contacts_count_12_mon       0\n",
       "credit_limit                0\n",
       "total_revolving_bal         0\n",
       "avg_open_to_buy             0\n",
       "total_amt_chng_q4_q1        0\n",
       "total_trans_amt             0\n",
       "total_trans_ct              0\n",
       "total_ct_chng_q4_q1         0\n",
       "avg_utilization_ratio       0\n",
       "dtype: int64"
      ]
     },
     "execution_count": 3,
     "metadata": {},
     "output_type": "execute_result"
    }
   ],
   "execution_count": 3
  },
  {
   "metadata": {
    "ExecuteTime": {
     "end_time": "2025-04-26T17:49:22.886836Z",
     "start_time": "2025-04-26T17:49:22.817115Z"
    }
   },
   "cell_type": "code",
   "source": "credit.describe().T.round(1)",
   "id": "b35e8a8c945e0bd",
   "outputs": [
    {
     "data": {
      "text/plain": [
       "                            count         mean         std          min  \\\n",
       "clientnum                 10127.0  739177606.3  36903783.5  708082083.0   \n",
       "customer_age              10127.0         46.3         8.0         26.0   \n",
       "dependent_count           10127.0          2.3         1.3          0.0   \n",
       "months_on_book            10127.0         35.9         8.0         13.0   \n",
       "total_relationship_count  10127.0          3.8         1.6          1.0   \n",
       "months_inactive_12_mon    10127.0          2.3         1.0          0.0   \n",
       "contacts_count_12_mon     10127.0          2.5         1.1          0.0   \n",
       "credit_limit              10127.0       8632.0      9088.8       1438.3   \n",
       "total_revolving_bal       10127.0       1162.8       815.0          0.0   \n",
       "avg_open_to_buy           10127.0       7469.1      9090.7          3.0   \n",
       "total_amt_chng_q4_q1      10127.0          0.8         0.2          0.0   \n",
       "total_trans_amt           10127.0       4404.1      3397.1        510.0   \n",
       "total_trans_ct            10127.0         64.9        23.5         10.0   \n",
       "total_ct_chng_q4_q1       10127.0          0.7         0.2          0.0   \n",
       "avg_utilization_ratio     10127.0          0.3         0.3          0.0   \n",
       "\n",
       "                                  25%          50%          75%          max  \n",
       "clientnum                 713036770.5  717926358.0  773143533.0  828343083.0  \n",
       "customer_age                     41.0         46.0         52.0         73.0  \n",
       "dependent_count                   1.0          2.0          3.0          5.0  \n",
       "months_on_book                   31.0         36.0         40.0         56.0  \n",
       "total_relationship_count          3.0          4.0          5.0          6.0  \n",
       "months_inactive_12_mon            2.0          2.0          3.0          6.0  \n",
       "contacts_count_12_mon             2.0          2.0          3.0          6.0  \n",
       "credit_limit                   2555.0       4549.0      11067.5      34516.0  \n",
       "total_revolving_bal             359.0       1276.0       1784.0       2517.0  \n",
       "avg_open_to_buy                1324.5       3474.0       9859.0      34516.0  \n",
       "total_amt_chng_q4_q1              0.6          0.7          0.9          3.4  \n",
       "total_trans_amt                2155.5       3899.0       4741.0      18484.0  \n",
       "total_trans_ct                   45.0         67.0         81.0        139.0  \n",
       "total_ct_chng_q4_q1               0.6          0.7          0.8          3.7  \n",
       "avg_utilization_ratio             0.0          0.2          0.5          1.0  "
      ],
      "text/html": [
       "<div>\n",
       "<style scoped>\n",
       "    .dataframe tbody tr th:only-of-type {\n",
       "        vertical-align: middle;\n",
       "    }\n",
       "\n",
       "    .dataframe tbody tr th {\n",
       "        vertical-align: top;\n",
       "    }\n",
       "\n",
       "    .dataframe thead th {\n",
       "        text-align: right;\n",
       "    }\n",
       "</style>\n",
       "<table border=\"1\" class=\"dataframe\">\n",
       "  <thead>\n",
       "    <tr style=\"text-align: right;\">\n",
       "      <th></th>\n",
       "      <th>count</th>\n",
       "      <th>mean</th>\n",
       "      <th>std</th>\n",
       "      <th>min</th>\n",
       "      <th>25%</th>\n",
       "      <th>50%</th>\n",
       "      <th>75%</th>\n",
       "      <th>max</th>\n",
       "    </tr>\n",
       "  </thead>\n",
       "  <tbody>\n",
       "    <tr>\n",
       "      <th>clientnum</th>\n",
       "      <td>10127.0</td>\n",
       "      <td>739177606.3</td>\n",
       "      <td>36903783.5</td>\n",
       "      <td>708082083.0</td>\n",
       "      <td>713036770.5</td>\n",
       "      <td>717926358.0</td>\n",
       "      <td>773143533.0</td>\n",
       "      <td>828343083.0</td>\n",
       "    </tr>\n",
       "    <tr>\n",
       "      <th>customer_age</th>\n",
       "      <td>10127.0</td>\n",
       "      <td>46.3</td>\n",
       "      <td>8.0</td>\n",
       "      <td>26.0</td>\n",
       "      <td>41.0</td>\n",
       "      <td>46.0</td>\n",
       "      <td>52.0</td>\n",
       "      <td>73.0</td>\n",
       "    </tr>\n",
       "    <tr>\n",
       "      <th>dependent_count</th>\n",
       "      <td>10127.0</td>\n",
       "      <td>2.3</td>\n",
       "      <td>1.3</td>\n",
       "      <td>0.0</td>\n",
       "      <td>1.0</td>\n",
       "      <td>2.0</td>\n",
       "      <td>3.0</td>\n",
       "      <td>5.0</td>\n",
       "    </tr>\n",
       "    <tr>\n",
       "      <th>months_on_book</th>\n",
       "      <td>10127.0</td>\n",
       "      <td>35.9</td>\n",
       "      <td>8.0</td>\n",
       "      <td>13.0</td>\n",
       "      <td>31.0</td>\n",
       "      <td>36.0</td>\n",
       "      <td>40.0</td>\n",
       "      <td>56.0</td>\n",
       "    </tr>\n",
       "    <tr>\n",
       "      <th>total_relationship_count</th>\n",
       "      <td>10127.0</td>\n",
       "      <td>3.8</td>\n",
       "      <td>1.6</td>\n",
       "      <td>1.0</td>\n",
       "      <td>3.0</td>\n",
       "      <td>4.0</td>\n",
       "      <td>5.0</td>\n",
       "      <td>6.0</td>\n",
       "    </tr>\n",
       "    <tr>\n",
       "      <th>months_inactive_12_mon</th>\n",
       "      <td>10127.0</td>\n",
       "      <td>2.3</td>\n",
       "      <td>1.0</td>\n",
       "      <td>0.0</td>\n",
       "      <td>2.0</td>\n",
       "      <td>2.0</td>\n",
       "      <td>3.0</td>\n",
       "      <td>6.0</td>\n",
       "    </tr>\n",
       "    <tr>\n",
       "      <th>contacts_count_12_mon</th>\n",
       "      <td>10127.0</td>\n",
       "      <td>2.5</td>\n",
       "      <td>1.1</td>\n",
       "      <td>0.0</td>\n",
       "      <td>2.0</td>\n",
       "      <td>2.0</td>\n",
       "      <td>3.0</td>\n",
       "      <td>6.0</td>\n",
       "    </tr>\n",
       "    <tr>\n",
       "      <th>credit_limit</th>\n",
       "      <td>10127.0</td>\n",
       "      <td>8632.0</td>\n",
       "      <td>9088.8</td>\n",
       "      <td>1438.3</td>\n",
       "      <td>2555.0</td>\n",
       "      <td>4549.0</td>\n",
       "      <td>11067.5</td>\n",
       "      <td>34516.0</td>\n",
       "    </tr>\n",
       "    <tr>\n",
       "      <th>total_revolving_bal</th>\n",
       "      <td>10127.0</td>\n",
       "      <td>1162.8</td>\n",
       "      <td>815.0</td>\n",
       "      <td>0.0</td>\n",
       "      <td>359.0</td>\n",
       "      <td>1276.0</td>\n",
       "      <td>1784.0</td>\n",
       "      <td>2517.0</td>\n",
       "    </tr>\n",
       "    <tr>\n",
       "      <th>avg_open_to_buy</th>\n",
       "      <td>10127.0</td>\n",
       "      <td>7469.1</td>\n",
       "      <td>9090.7</td>\n",
       "      <td>3.0</td>\n",
       "      <td>1324.5</td>\n",
       "      <td>3474.0</td>\n",
       "      <td>9859.0</td>\n",
       "      <td>34516.0</td>\n",
       "    </tr>\n",
       "    <tr>\n",
       "      <th>total_amt_chng_q4_q1</th>\n",
       "      <td>10127.0</td>\n",
       "      <td>0.8</td>\n",
       "      <td>0.2</td>\n",
       "      <td>0.0</td>\n",
       "      <td>0.6</td>\n",
       "      <td>0.7</td>\n",
       "      <td>0.9</td>\n",
       "      <td>3.4</td>\n",
       "    </tr>\n",
       "    <tr>\n",
       "      <th>total_trans_amt</th>\n",
       "      <td>10127.0</td>\n",
       "      <td>4404.1</td>\n",
       "      <td>3397.1</td>\n",
       "      <td>510.0</td>\n",
       "      <td>2155.5</td>\n",
       "      <td>3899.0</td>\n",
       "      <td>4741.0</td>\n",
       "      <td>18484.0</td>\n",
       "    </tr>\n",
       "    <tr>\n",
       "      <th>total_trans_ct</th>\n",
       "      <td>10127.0</td>\n",
       "      <td>64.9</td>\n",
       "      <td>23.5</td>\n",
       "      <td>10.0</td>\n",
       "      <td>45.0</td>\n",
       "      <td>67.0</td>\n",
       "      <td>81.0</td>\n",
       "      <td>139.0</td>\n",
       "    </tr>\n",
       "    <tr>\n",
       "      <th>total_ct_chng_q4_q1</th>\n",
       "      <td>10127.0</td>\n",
       "      <td>0.7</td>\n",
       "      <td>0.2</td>\n",
       "      <td>0.0</td>\n",
       "      <td>0.6</td>\n",
       "      <td>0.7</td>\n",
       "      <td>0.8</td>\n",
       "      <td>3.7</td>\n",
       "    </tr>\n",
       "    <tr>\n",
       "      <th>avg_utilization_ratio</th>\n",
       "      <td>10127.0</td>\n",
       "      <td>0.3</td>\n",
       "      <td>0.3</td>\n",
       "      <td>0.0</td>\n",
       "      <td>0.0</td>\n",
       "      <td>0.2</td>\n",
       "      <td>0.5</td>\n",
       "      <td>1.0</td>\n",
       "    </tr>\n",
       "  </tbody>\n",
       "</table>\n",
       "</div>"
      ]
     },
     "execution_count": 4,
     "metadata": {},
     "output_type": "execute_result"
    }
   ],
   "execution_count": 4
  },
  {
   "metadata": {},
   "cell_type": "raw",
   "source": "",
   "id": "fa71931367e98ae8"
  },
  {
   "metadata": {
    "ExecuteTime": {
     "end_time": "2025-04-26T17:49:35.992127Z",
     "start_time": "2025-04-26T17:49:35.972806Z"
    }
   },
   "cell_type": "code",
   "source": "credit.info()",
   "id": "5b2167b5ce5e73ef",
   "outputs": [
    {
     "name": "stdout",
     "output_type": "stream",
     "text": [
      "<class 'pandas.core.frame.DataFrame'>\n",
      "RangeIndex: 10127 entries, 0 to 10126\n",
      "Data columns (total 21 columns):\n",
      " #   Column                    Non-Null Count  Dtype  \n",
      "---  ------                    --------------  -----  \n",
      " 0   clientnum                 10127 non-null  int64  \n",
      " 1   attrition_flag            10127 non-null  object \n",
      " 2   customer_age              10127 non-null  int64  \n",
      " 3   gender                    10127 non-null  object \n",
      " 4   dependent_count           10127 non-null  int64  \n",
      " 5   education_level           10127 non-null  object \n",
      " 6   marital_status            10127 non-null  object \n",
      " 7   income_category           10127 non-null  object \n",
      " 8   card_category             10127 non-null  object \n",
      " 9   months_on_book            10127 non-null  int64  \n",
      " 10  total_relationship_count  10127 non-null  int64  \n",
      " 11  months_inactive_12_mon    10127 non-null  int64  \n",
      " 12  contacts_count_12_mon     10127 non-null  int64  \n",
      " 13  credit_limit              10127 non-null  float64\n",
      " 14  total_revolving_bal       10127 non-null  int64  \n",
      " 15  avg_open_to_buy           10127 non-null  float64\n",
      " 16  total_amt_chng_q4_q1      10127 non-null  float64\n",
      " 17  total_trans_amt           10127 non-null  int64  \n",
      " 18  total_trans_ct            10127 non-null  int64  \n",
      " 19  total_ct_chng_q4_q1       10127 non-null  float64\n",
      " 20  avg_utilization_ratio     10127 non-null  float64\n",
      "dtypes: float64(5), int64(10), object(6)\n",
      "memory usage: 1.6+ MB\n"
     ]
    }
   ],
   "execution_count": 5
  },
  {
   "metadata": {
    "ExecuteTime": {
     "end_time": "2025-04-26T17:49:47.050034Z",
     "start_time": "2025-04-26T17:49:47.028823Z"
    }
   },
   "cell_type": "code",
   "source": "credit['income_category'].value_counts()",
   "id": "df2df1e3bfc1d941",
   "outputs": [
    {
     "data": {
      "text/plain": [
       "income_category\n",
       "Less than $40K    3561\n",
       "$40K - $60K       1790\n",
       "$80K - $120K      1535\n",
       "$60K - $80K       1402\n",
       "Unknown           1112\n",
       "$120K +            727\n",
       "Name: count, dtype: int64"
      ]
     },
     "execution_count": 6,
     "metadata": {},
     "output_type": "execute_result"
    }
   ],
   "execution_count": 6
  },
  {
   "metadata": {
    "ExecuteTime": {
     "end_time": "2025-04-26T17:52:33.811439Z",
     "start_time": "2025-04-26T17:52:33.550772Z"
    }
   },
   "cell_type": "code",
   "source": [
    " \n",
    "task_3_1 = credit[[\"gender\", \"total_trans_amt\"]]\n",
    "male = task_3_1.query(\"gender == 'M'\")\n",
    "female = task_3_1.query(\"gender == 'F'\")\n",
    "\n",
    "fig, ax = plt.subplots(figsize = (12,5))\n",
    "\n",
    "ax.boxplot([male[\"total_trans_amt\"], female[\"total_trans_amt\"]], widths = 0.5,labels = [\"man\", \"female\"], vert = False)\n",
    "\n",
    "plt.xlabel('Денежный оборот на кредитной карте')\n",
    "plt.xticks(np.arange(0, 20000, 1500))\n",
    "plt.title(\"Денежный оборот на кредитной карте, зависящий от пола\")\n"
   ],
   "id": "6b88a7b8064ad017",
   "outputs": [
    {
     "name": "stderr",
     "output_type": "stream",
     "text": [
      "C:\\Users\\sekin\\AppData\\Local\\Temp\\ipykernel_20108\\2444821933.py:7: MatplotlibDeprecationWarning: The 'labels' parameter of boxplot() has been renamed 'tick_labels' since Matplotlib 3.9; support for the old name will be dropped in 3.11.\n",
      "  ax.boxplot([male[\"total_trans_amt\"], female[\"total_trans_amt\"]], widths = 0.5,labels = [\"man\", \"female\"], vert = False)\n"
     ]
    },
    {
     "data": {
      "text/plain": [
       "Text(0.5, 1.0, 'Денежный оборот на кредитной карте, зависящий от пола')"
      ]
     },
     "execution_count": 7,
     "metadata": {},
     "output_type": "execute_result"
    },
    {
     "data": {
      "text/plain": [
       "<Figure size 1200x500 with 1 Axes>"
      ],
      "image/png": "[encoded data removed]"
     },
     "metadata": {},
     "output_type": "display_data"
    }
   ],
   "execution_count": 7
  },
  {
   "metadata": {},
   "cell_type": "code",
   "outputs": [],
   "execution_count": null,
   "source": "",
   "id": "b2d2c5ba670349b"
  }
 ],
 "metadata": {
  "kernelspec": {
   "display_name": "Python 3",
   "language": "python",
   "name": "python3"
  },
  "language_info": {
   "codemirror_mode": {
    "name": "ipython",
    "version": 2
   },
   "file_extension": ".py",
   "mimetype": "text/x-python",
   "name": "python",
   "nbconvert_exporter": "python",
   "pygments_lexer": "ipython2",
   "version": "2.7.6"
  }
 },
 "nbformat": 4,
 "nbformat_minor": 5
}
