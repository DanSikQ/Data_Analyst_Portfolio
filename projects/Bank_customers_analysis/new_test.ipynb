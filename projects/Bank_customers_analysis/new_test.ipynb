{
 "cells": [
  {
   "cell_type": "code",
   "id": "initial_id",
   "metadata": {
    "collapsed": true,
    "ExecuteTime": {
     "end_time": "2025-04-26T17:42:09.223522Z",
     "start_time": "2025-04-26T17:42:08.607560Z"
    }
   },
   "source": [
    "from sklearn.cluster import KMeans, DBSCAN, AgglomerativeClustering\n",
    "from sklearn.metrics import silhouette_samples, silhouette_score, davies_bouldin_score, accuracy_score\n",
    "from sklearn.feature_selection import SelectKBest, chi2\n",
    "from sklearn.preprocessing import KBinsDiscretizer, StandardScaler, RobustScaler, LabelEncoder\n",
    "from sklearn.neighbors import NearestNeighbors\n",
    "from sklearn.ensemble import IsolationForest\n",
    "from sklearn.decomposition import PCA\n",
    "\n",
    "\n",
    "import pandas as pd\n",
    "import numpy as np\n",
    "import seaborn as sns\n",
    "import matplotlib.pyplot as plt\n",
    "import scipy.stats"
   ],
   "outputs": [],
   "execution_count": 1
  },
  {
   "metadata": {
    "ExecuteTime": {
     "end_time": "2025-04-26T17:42:18.969151Z",
     "start_time": "2025-04-26T17:42:18.903844Z"
    }
   },
   "cell_type": "code",
   "source": [
    "credit = pd.read_csv('BankChurners.csv') # https://www.kaggle.com/datasets/sakshigoyal7/credit-card-customers/data\n",
    "credit = credit.drop(columns = credit.columns[-2:])\n",
    "credit.columns = credit.columns.str.lower()"
   ],
   "id": "b55bd80cfc23bac3",
   "outputs": [],
   "execution_count": 2
  },
  {
   "metadata": {
    "ExecuteTime": {
     "end_time": "2025-04-26T17:42:28.247611Z",
     "start_time": "2025-04-26T17:42:28.232181Z"
    }
   },
   "cell_type": "code",
   "source": "credit.isnull().sum() # нулевых значений нет",
   "id": "3ccf9d9764971ba0",
   "outputs": [
    {
     "data": {
      "text/plain": [
       "clientnum                   0\n",
       "attrition_flag              0\n",
       "customer_age                0\n",
       "gender                      0\n",
       "dependent_count             0\n",
       "education_level             0\n",
       "marital_status              0\n",
       "income_category             0\n",
       "card_category               0\n",
       "months_on_book              0\n",
       "total_relationship_count    0\n",
       "months_inactive_12_mon      0\n",
       "contacts_count_12_mon       0\n",
       "credit_limit                0\n",
       "total_revolving_bal         0\n",
       "avg_open_to_buy             0\n",
       "total_amt_chng_q4_q1        0\n",
       "total_trans_amt             0\n",
       "total_trans_ct              0\n",
       "total_ct_chng_q4_q1         0\n",
       "avg_utilization_ratio       0\n",
       "dtype: int64"
      ]
     },
     "execution_count": 3,
     "metadata": {},
     "output_type": "execute_result"
    }
   ],
   "execution_count": 3
  },
  {
   "metadata": {},
   "cell_type": "code",
   "outputs": [],
   "execution_count": null,
   "source": "",
   "id": "b35e8a8c945e0bd"
  }
 ],
 "metadata": {
  "kernelspec": {
   "display_name": "Python 3",
   "language": "python",
   "name": "python3"
  },
  "language_info": {
   "codemirror_mode": {
    "name": "ipython",
    "version": 2
   },
   "file_extension": ".py",
   "mimetype": "text/x-python",
   "name": "python",
   "nbconvert_exporter": "python",
   "pygments_lexer": "ipython2",
   "version": "2.7.6"
  }
 },
 "nbformat": 4,
 "nbformat_minor": 5
}
