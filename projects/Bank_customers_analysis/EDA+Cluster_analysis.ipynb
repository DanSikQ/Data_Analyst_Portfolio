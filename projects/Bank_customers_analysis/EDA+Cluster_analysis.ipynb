{
 "cells": [
  {
   "cell_type": "raw",
   "metadata": {},
   "source": [
    "CLIENTNUM - Уникальный идентификатор для клиента, держащего учетную запись\n",
    "Attrition_Flag - Внутреннее событие (активность клиента) переменная - если учетная запись закрыта, то 1 еще 0 (целевая переменная)\n",
    "Customer_age - возраст клиента\n",
    "Gender - m = мужчина, f = женщина\n",
    "Dependent_count - количество иждивенцев\n",
    "Education_level образовательная квалификация владельца счета (пример: средняя школа, выпускник колледжа и т. Д.)\n",
    "Marital_Status - Демографическая переменная - женат, одинокий, разведенный, неизвестный\n",
    "income_category- Демографическая переменная - категория годовой доход владельца счета (<40 тыс. Долл. США, 40 тыс. - 60 тысяч, 60 тыс. - 80 тыс. Долл. США, 80 тыс. Долл. США,> 120 тыс. Долл. США, неизвестно)\n",
    "Card_category Переменная продукта - тип карты (синий, серебро, золото, платина) \n",
    "MOnth_ON_Book - Период отношений с банком (целевая переменная для регрессии)\n",
    "total_relationship_count - Всего продуктов, принадлежащих клиенту\n",
    "'months_inactive_12_mon' - Количество месяцев неактивных за последние 12 месяцев\n",
    "'contacts_count_12_mon' - Количество контактов за последние 12 месяцев\n",
    "'credit_limit'- Кредитный лимит на кредитной карте \n",
    "'total_revolving_bal' - Общий оборотный баланс на кредитной карте\n",
    "'avg_open_to_buy - Открыт, чтобы купить кредитную линию (в среднем за последние 12 месяцев) )\n",
    "'total_amt_chng_q4_q1' - Изменение суммы транзакции (Q4 по сравнению с Q1) \n",
    "'total_trans_amt' - Общая сумма транзакции (последние 12 месяцев)\n",
    "'total_trans_ct - Общее количество транзакций (последние 12 месяцев) \n",
    "'total_ct_chng_q4_q1' - Изменение количества транзакций (Q4 над Q1) \n",
    "'avg_utilization_ratio' - Средний коэффициент использования карт "
   ]
  },
  {
   "cell_type": "code",
   "metadata": {
    "ExecuteTime": {
     "end_time": "2025-04-21T17:52:34.461197Z",
     "start_time": "2025-04-21T17:52:34.449658Z"
    }
   },
   "source": [
    "from sklearn.cluster import KMeans, DBSCAN, AgglomerativeClustering\n",
    "from sklearn.metrics import silhouette_samples, silhouette_score, davies_bouldin_score, accuracy_score\n",
    "from sklearn.feature_selection import SelectKBest, chi2\n",
    "from sklearn.preprocessing import KBinsDiscretizer, StandardScaler, RobustScaler, LabelEncoder\n",
    "from sklearn.neighbors import NearestNeighbors\n",
    "from sklearn.ensemble import IsolationForest\n",
    "from sklearn.decomposition import PCA\n",
    "\n",
    "\n",
    "import pandas as pd\n",
    "import numpy as np\n",
    "import seaborn as sns\n",
    "import matplotlib.pyplot as plt\n",
    "import scipy.stats"
   ],
   "outputs": [],
   "execution_count": 29
  },
  {
   "metadata": {},
   "cell_type": "code",
   "source": "",
   "outputs": [],
   "execution_count": null
  },
  {
   "cell_type": "markdown",
   "metadata": {
    "id": "UvOU24CVgwYT"
   },
   "source": [
    "## Загрузка датасета"
   ]
  },
  {
   "cell_type": "code",
   "metadata": {
    "ExecuteTime": {
     "end_time": "2025-04-21T17:52:36.552927Z",
     "start_time": "2025-04-21T17:52:36.529201Z"
    }
   },
   "source": [
    "credit = pd.read_csv('BankChurners.csv') # https://www.kaggle.com/datasets/sakshigoyal7/credit-card-customers/data\n",
    "credit = credit.drop(columns = credit.columns[-2:])\n",
    "credit.columns = credit.columns.str.lower()"
   ],
   "outputs": [],
   "execution_count": 30
  },
  {
   "cell_type": "code",
   "metadata": {
    "ExecuteTime": {
     "end_time": "2025-04-21T17:52:37.000791Z",
     "start_time": "2025-04-21T17:52:36.994159Z"
    }
   },
   "source": [
    "credit.isnull().sum() # нулевых значений нет"
   ],
   "outputs": [
    {
     "data": {
      "text/plain": [
       "clientnum                   0\n",
       "attrition_flag              0\n",
       "customer_age                0\n",
       "gender                      0\n",
       "dependent_count             0\n",
       "education_level             0\n",
       "marital_status              0\n",
       "income_category             0\n",
       "card_category               0\n",
       "months_on_book              0\n",
       "total_relationship_count    0\n",
       "months_inactive_12_mon      0\n",
       "contacts_count_12_mon       0\n",
       "credit_limit                0\n",
       "total_revolving_bal         0\n",
       "avg_open_to_buy             0\n",
       "total_amt_chng_q4_q1        0\n",
       "total_trans_amt             0\n",
       "total_trans_ct              0\n",
       "total_ct_chng_q4_q1         0\n",
       "avg_utilization_ratio       0\n",
       "dtype: int64"
      ]
     },
     "execution_count": 31,
     "metadata": {},
     "output_type": "execute_result"
    }
   ],
   "execution_count": 31
  },
  {
   "cell_type": "code",
   "metadata": {
    "ExecuteTime": {
     "end_time": "2025-04-21T17:52:37.782342Z",
     "start_time": "2025-04-21T17:52:37.759113Z"
    }
   },
   "source": [
    "credit.describe().T.round(1)"
   ],
   "outputs": [
    {
     "data": {
      "text/plain": [
       "                            count         mean         std          min  \\\n",
       "clientnum                 10127.0  739177606.3  36903783.5  708082083.0   \n",
       "customer_age              10127.0         46.3         8.0         26.0   \n",
       "dependent_count           10127.0          2.3         1.3          0.0   \n",
       "months_on_book            10127.0         35.9         8.0         13.0   \n",
       "total_relationship_count  10127.0          3.8         1.6          1.0   \n",
       "months_inactive_12_mon    10127.0          2.3         1.0          0.0   \n",
       "contacts_count_12_mon     10127.0          2.5         1.1          0.0   \n",
       "credit_limit              10127.0       8632.0      9088.8       1438.3   \n",
       "total_revolving_bal       10127.0       1162.8       815.0          0.0   \n",
       "avg_open_to_buy           10127.0       7469.1      9090.7          3.0   \n",
       "total_amt_chng_q4_q1      10127.0          0.8         0.2          0.0   \n",
       "total_trans_amt           10127.0       4404.1      3397.1        510.0   \n",
       "total_trans_ct            10127.0         64.9        23.5         10.0   \n",
       "total_ct_chng_q4_q1       10127.0          0.7         0.2          0.0   \n",
       "avg_utilization_ratio     10127.0          0.3         0.3          0.0   \n",
       "\n",
       "                                  25%          50%          75%          max  \n",
       "clientnum                 713036770.5  717926358.0  773143533.0  828343083.0  \n",
       "customer_age                     41.0         46.0         52.0         73.0  \n",
       "dependent_count                   1.0          2.0          3.0          5.0  \n",
       "months_on_book                   31.0         36.0         40.0         56.0  \n",
       "total_relationship_count          3.0          4.0          5.0          6.0  \n",
       "months_inactive_12_mon            2.0          2.0          3.0          6.0  \n",
       "contacts_count_12_mon             2.0          2.0          3.0          6.0  \n",
       "credit_limit                   2555.0       4549.0      11067.5      34516.0  \n",
       "total_revolving_bal             359.0       1276.0       1784.0       2517.0  \n",
       "avg_open_to_buy                1324.5       3474.0       9859.0      34516.0  \n",
       "total_amt_chng_q4_q1              0.6          0.7          0.9          3.4  \n",
       "total_trans_amt                2155.5       3899.0       4741.0      18484.0  \n",
       "total_trans_ct                   45.0         67.0         81.0        139.0  \n",
       "total_ct_chng_q4_q1               0.6          0.7          0.8          3.7  \n",
       "avg_utilization_ratio             0.0          0.2          0.5          1.0  "
      ],
      "text/html": [
       "<div>\n",
       "<style scoped>\n",
       "    .dataframe tbody tr th:only-of-type {\n",
       "        vertical-align: middle;\n",
       "    }\n",
       "\n",
       "    .dataframe tbody tr th {\n",
       "        vertical-align: top;\n",
       "    }\n",
       "\n",
       "    .dataframe thead th {\n",
       "        text-align: right;\n",
       "    }\n",
       "</style>\n",
       "<table border=\"1\" class=\"dataframe\">\n",
       "  <thead>\n",
       "    <tr style=\"text-align: right;\">\n",
       "      <th></th>\n",
       "      <th>count</th>\n",
       "      <th>mean</th>\n",
       "      <th>std</th>\n",
       "      <th>min</th>\n",
       "      <th>25%</th>\n",
       "      <th>50%</th>\n",
       "      <th>75%</th>\n",
       "      <th>max</th>\n",
       "    </tr>\n",
       "  </thead>\n",
       "  <tbody>\n",
       "    <tr>\n",
       "      <th>clientnum</th>\n",
       "      <td>10127.0</td>\n",
       "      <td>739177606.3</td>\n",
       "      <td>36903783.5</td>\n",
       "      <td>708082083.0</td>\n",
       "      <td>713036770.5</td>\n",
       "      <td>717926358.0</td>\n",
       "      <td>773143533.0</td>\n",
       "      <td>828343083.0</td>\n",
       "    </tr>\n",
       "    <tr>\n",
       "      <th>customer_age</th>\n",
       "      <td>10127.0</td>\n",
       "      <td>46.3</td>\n",
       "      <td>8.0</td>\n",
       "      <td>26.0</td>\n",
       "      <td>41.0</td>\n",
       "      <td>46.0</td>\n",
       "      <td>52.0</td>\n",
       "      <td>73.0</td>\n",
       "    </tr>\n",
       "    <tr>\n",
       "      <th>dependent_count</th>\n",
       "      <td>10127.0</td>\n",
       "      <td>2.3</td>\n",
       "      <td>1.3</td>\n",
       "      <td>0.0</td>\n",
       "      <td>1.0</td>\n",
       "      <td>2.0</td>\n",
       "      <td>3.0</td>\n",
       "      <td>5.0</td>\n",
       "    </tr>\n",
       "    <tr>\n",
       "      <th>months_on_book</th>\n",
       "      <td>10127.0</td>\n",
       "      <td>35.9</td>\n",
       "      <td>8.0</td>\n",
       "      <td>13.0</td>\n",
       "      <td>31.0</td>\n",
       "      <td>36.0</td>\n",
       "      <td>40.0</td>\n",
       "      <td>56.0</td>\n",
       "    </tr>\n",
       "    <tr>\n",
       "      <th>total_relationship_count</th>\n",
       "      <td>10127.0</td>\n",
       "      <td>3.8</td>\n",
       "      <td>1.6</td>\n",
       "      <td>1.0</td>\n",
       "      <td>3.0</td>\n",
       "      <td>4.0</td>\n",
       "      <td>5.0</td>\n",
       "      <td>6.0</td>\n",
       "    </tr>\n",
       "    <tr>\n",
       "      <th>months_inactive_12_mon</th>\n",
       "      <td>10127.0</td>\n",
       "      <td>2.3</td>\n",
       "      <td>1.0</td>\n",
       "      <td>0.0</td>\n",
       "      <td>2.0</td>\n",
       "      <td>2.0</td>\n",
       "      <td>3.0</td>\n",
       "      <td>6.0</td>\n",
       "    </tr>\n",
       "    <tr>\n",
       "      <th>contacts_count_12_mon</th>\n",
       "      <td>10127.0</td>\n",
       "      <td>2.5</td>\n",
       "      <td>1.1</td>\n",
       "      <td>0.0</td>\n",
       "      <td>2.0</td>\n",
       "      <td>2.0</td>\n",
       "      <td>3.0</td>\n",
       "      <td>6.0</td>\n",
       "    </tr>\n",
       "    <tr>\n",
       "      <th>credit_limit</th>\n",
       "      <td>10127.0</td>\n",
       "      <td>8632.0</td>\n",
       "      <td>9088.8</td>\n",
       "      <td>1438.3</td>\n",
       "      <td>2555.0</td>\n",
       "      <td>4549.0</td>\n",
       "      <td>11067.5</td>\n",
       "      <td>34516.0</td>\n",
       "    </tr>\n",
       "    <tr>\n",
       "      <th>total_revolving_bal</th>\n",
       "      <td>10127.0</td>\n",
       "      <td>1162.8</td>\n",
       "      <td>815.0</td>\n",
       "      <td>0.0</td>\n",
       "      <td>359.0</td>\n",
       "      <td>1276.0</td>\n",
       "      <td>1784.0</td>\n",
       "      <td>2517.0</td>\n",
       "    </tr>\n",
       "    <tr>\n",
       "      <th>avg_open_to_buy</th>\n",
       "      <td>10127.0</td>\n",
       "      <td>7469.1</td>\n",
       "      <td>9090.7</td>\n",
       "      <td>3.0</td>\n",
       "      <td>1324.5</td>\n",
       "      <td>3474.0</td>\n",
       "      <td>9859.0</td>\n",
       "      <td>34516.0</td>\n",
       "    </tr>\n",
       "    <tr>\n",
       "      <th>total_amt_chng_q4_q1</th>\n",
       "      <td>10127.0</td>\n",
       "      <td>0.8</td>\n",
       "      <td>0.2</td>\n",
       "      <td>0.0</td>\n",
       "      <td>0.6</td>\n",
       "      <td>0.7</td>\n",
       "      <td>0.9</td>\n",
       "      <td>3.4</td>\n",
       "    </tr>\n",
       "    <tr>\n",
       "      <th>total_trans_amt</th>\n",
       "      <td>10127.0</td>\n",
       "      <td>4404.1</td>\n",
       "      <td>3397.1</td>\n",
       "      <td>510.0</td>\n",
       "      <td>2155.5</td>\n",
       "      <td>3899.0</td>\n",
       "      <td>4741.0</td>\n",
       "      <td>18484.0</td>\n",
       "    </tr>\n",
       "    <tr>\n",
       "      <th>total_trans_ct</th>\n",
       "      <td>10127.0</td>\n",
       "      <td>64.9</td>\n",
       "      <td>23.5</td>\n",
       "      <td>10.0</td>\n",
       "      <td>45.0</td>\n",
       "      <td>67.0</td>\n",
       "      <td>81.0</td>\n",
       "      <td>139.0</td>\n",
       "    </tr>\n",
       "    <tr>\n",
       "      <th>total_ct_chng_q4_q1</th>\n",
       "      <td>10127.0</td>\n",
       "      <td>0.7</td>\n",
       "      <td>0.2</td>\n",
       "      <td>0.0</td>\n",
       "      <td>0.6</td>\n",
       "      <td>0.7</td>\n",
       "      <td>0.8</td>\n",
       "      <td>3.7</td>\n",
       "    </tr>\n",
       "    <tr>\n",
       "      <th>avg_utilization_ratio</th>\n",
       "      <td>10127.0</td>\n",
       "      <td>0.3</td>\n",
       "      <td>0.3</td>\n",
       "      <td>0.0</td>\n",
       "      <td>0.0</td>\n",
       "      <td>0.2</td>\n",
       "      <td>0.5</td>\n",
       "      <td>1.0</td>\n",
       "    </tr>\n",
       "  </tbody>\n",
       "</table>\n",
       "</div>"
      ]
     },
     "execution_count": 32,
     "metadata": {},
     "output_type": "execute_result"
    }
   ],
   "execution_count": 32
  },
  {
   "cell_type": "code",
   "metadata": {
    "ExecuteTime": {
     "end_time": "2025-04-21T17:52:38.407059Z",
     "start_time": "2025-04-21T17:52:38.398725Z"
    }
   },
   "source": [
    "credit.info()"
   ],
   "outputs": [
    {
     "name": "stdout",
     "output_type": "stream",
     "text": [
      "<class 'pandas.core.frame.DataFrame'>\n",
      "RangeIndex: 10127 entries, 0 to 10126\n",
      "Data columns (total 21 columns):\n",
      " #   Column                    Non-Null Count  Dtype  \n",
      "---  ------                    --------------  -----  \n",
      " 0   clientnum                 10127 non-null  int64  \n",
      " 1   attrition_flag            10127 non-null  object \n",
      " 2   customer_age              10127 non-null  int64  \n",
      " 3   gender                    10127 non-null  object \n",
      " 4   dependent_count           10127 non-null  int64  \n",
      " 5   education_level           10127 non-null  object \n",
      " 6   marital_status            10127 non-null  object \n",
      " 7   income_category           10127 non-null  object \n",
      " 8   card_category             10127 non-null  object \n",
      " 9   months_on_book            10127 non-null  int64  \n",
      " 10  total_relationship_count  10127 non-null  int64  \n",
      " 11  months_inactive_12_mon    10127 non-null  int64  \n",
      " 12  contacts_count_12_mon     10127 non-null  int64  \n",
      " 13  credit_limit              10127 non-null  float64\n",
      " 14  total_revolving_bal       10127 non-null  int64  \n",
      " 15  avg_open_to_buy           10127 non-null  float64\n",
      " 16  total_amt_chng_q4_q1      10127 non-null  float64\n",
      " 17  total_trans_amt           10127 non-null  int64  \n",
      " 18  total_trans_ct            10127 non-null  int64  \n",
      " 19  total_ct_chng_q4_q1       10127 non-null  float64\n",
      " 20  avg_utilization_ratio     10127 non-null  float64\n",
      "dtypes: float64(5), int64(10), object(6)\n",
      "memory usage: 1.6+ MB\n"
     ]
    }
   ],
   "execution_count": 33
  },
  {
   "cell_type": "code",
   "metadata": {
    "ExecuteTime": {
     "end_time": "2025-04-21T17:52:38.884545Z",
     "start_time": "2025-04-21T17:52:38.876548Z"
    }
   },
   "source": [
    "credit['income_category'].value_counts()"
   ],
   "outputs": [
    {
     "data": {
      "text/plain": [
       "income_category\n",
       "Less than $40K    3561\n",
       "$40K - $60K       1790\n",
       "$80K - $120K      1535\n",
       "$60K - $80K       1402\n",
       "Unknown           1112\n",
       "$120K +            727\n",
       "Name: count, dtype: int64"
      ]
     },
     "execution_count": 34,
     "metadata": {},
     "output_type": "execute_result"
    }
   ],
   "execution_count": 34
  },
  {
   "cell_type": "code",
   "metadata": {},
   "source": [
    " \n",
    "task_3_1 = credit[[\"gender\", \"total_trans_amt\"]]\n",
    "male = task_3_1.query(\"gender == 'M'\")\n",
    "female = task_3_1.query(\"gender == 'F'\")\n",
    "\n",
    "fig, ax = plt.subplots(figsize = (12,5))\n",
    "\n",
    "ax.boxplot([male[\"total_trans_amt\"], female[\"total_trans_amt\"]], widths = 0.5,labels = [\"man\", \"female\"], vert = False)\n",
    "\n",
    "plt.xlabel('Денежный оборот на кредитной карте')\n",
    "plt.xticks(np.arange(0, 20000, 1500))\n",
    "plt.title(\"Денежный оборот на кредитной карте, зависящий от пола\")\n"
   ],
   "outputs": [],
   "execution_count": null
  },
  {
   "cell_type": "code",
   "metadata": {},
   "source": [
    "print(male['total_trans_amt'].mean())\n",
    "print(female['total_trans_amt'].mean())"
   ],
   "outputs": [],
   "execution_count": null
  },
  {
   "cell_type": "markdown",
   "metadata": {},
   "source": [
    "У девушек медиана смещена в большую сторону в сравнение с мужчинами, но у мужчин больше среднее."
   ]
  },
  {
   "cell_type": "code",
   "metadata": {},
   "source": [
    "credit['education_level'].value_counts() "
   ],
   "outputs": [],
   "execution_count": null
  },
  {
   "cell_type": "code",
   "metadata": {},
   "source": [
    "task_3_2 = credit[[\"education_level\", \"total_trans_amt\"]]\n",
    "task_3_2 = task_3_2.groupby([\"education_level\"], as_index = False).mean().drop(6)\n",
    "\n",
    "fig, ax = plt.subplots(figsize=(10,6))\n",
    "\n",
    "ax.bar(task_3_2['education_level'], height = task_3_2[\"total_trans_amt\"], width = 0.6 )\n",
    "ax.set_ylim(4000, 4600)\n",
    "\n",
    "plt.xlabel('Уровень образования')\n",
    "plt.ylabel('Оборот на кредитной карте в долларах')\n",
    "plt.title('Средний денежный оборот в зависимости от уровня образования')\n",
    "plt.grid(axis='y', linestyle='-', alpha=1) "
   ],
   "outputs": [],
   "execution_count": null
  },
  {
   "cell_type": "code",
   "metadata": {},
   "source": [
    "task_3_2"
   ],
   "outputs": [],
   "execution_count": null
  },
  {
   "cell_type": "markdown",
   "metadata": {},
   "source": [
    "А говорят без образования никуда)"
   ]
  },
  {
   "cell_type": "code",
   "metadata": {},
   "source": [
    "task_3_3 = credit['customer_age']\n",
    "plt.hist(task_3_3, edgecolor = 'black')\n",
    "plt.xlabel('Возраст')\n",
    "plt.ylabel('Количество людей')\n",
    "plt.xticks(np.arange(20, 70, 5))  \n",
    "\n",
    "plt.show()"
   ],
   "outputs": [],
   "execution_count": null
  },
  {
   "cell_type": "code",
   "metadata": {},
   "source": [
    "print('Матожидание:', np.mean(task_3_3))\n",
    "print('Стандартное отклонение:', np.std(task_3_3))\n",
    "print(\"Основной возраст людей находится в промежутке от\", np.quantile(task_3_3, 0.25), 'до', np.quantile(task_3_3, 0.75), \"лет\")"
   ],
   "outputs": [],
   "execution_count": null
  },
  {
   "cell_type": "code",
   "metadata": {},
   "source": [
    "import seaborn as sns\n",
    "non_object_columns = credit.select_dtypes(exclude=['object'])\n",
    "fig, ax = plt.subplots(figsize = (10, 6))\n",
    "# Корреляционная матрица для количественных признаков\n",
    "sns.heatmap(non_object_columns.corr().round(1), annot = True)"
   ],
   "outputs": [],
   "execution_count": null
  },
  {
   "cell_type": "markdown",
   "metadata": {},
   "source": [
    "Ну каких-то скрытых зависимостей не обнаружено только, понятно то что от возраста зависит, сколько ты держишь свою кредитную карту. Ну и остальные также нам новую информацию не даёт. Например от количество денег, которые ты тратишь вырастает коэффицициент использования карты. Можно было бы и поработать с категориальными данными, но их посмотрим череp pandas_profilling. "
   ]
  },
  {
   "cell_type": "code",
   "metadata": {},
   "source": [
    "credit['attrition_flag'].value_counts() # Целевая переменная "
   ],
   "outputs": [],
   "execution_count": null
  },
  {
   "cell_type": "code",
   "metadata": {},
   "source": [
    "# PCA можем впринципе выкинуть пару фич\n",
    "from sklearn.preprocessing import StandardScaler\n",
    "from sklearn.decomposition import PCA\n",
    "import numpy as np\n",
    "\n",
    "credit_copy_2 = credit.copy()\n",
    "\n",
    "X = credit_copy_2.drop(columns = ['clientnum','attrition_flag']).select_dtypes(exclude = ['object'])\n",
    "feature_names = X.columns\n",
    "scaler = StandardScaler()\n",
    "X_scaled = scaler.fit_transform(X)\n",
    "\n",
    "pca = PCA(n_components=2)\n",
    "pca.fit(X_scaled)\n",
    "X_pca = pca.transform(X_scaled)\n",
    "\n",
    "feature_importances = np.sum(pca.components_**2, axis=0)\n",
    "#  Нормализуем, чтобы значимость была от 0 до 1\n",
    "feature_importances /= np.sum(feature_importances)\n",
    "\n",
    "importance_df = pd.DataFrame({'Feature': feature_names, 'Importance': feature_importances})\n",
    "importance_df = importance_df.sort_values('Importance', ascending=False)\n",
    "\n",
    "explained_variance_ratio = pca.explained_variance_ratio_\n",
    "print(\"Explained variance ratio:\", explained_variance_ratio)\n",
    "print(\"Суммарная объясненная дисперсия:\", np.sum(explained_variance_ratio))\n",
    "importance_df"
   ],
   "outputs": [],
   "execution_count": null
  },
  {
   "cell_type": "markdown",
   "metadata": {},
   "source": [
    "# Работа с аномалиями "
   ]
  },
  {
   "cell_type": "code",
   "metadata": {},
   "source": [
    "# Поработаем с количиственными признаками \n",
    "credit_box_plot = credit.copy().drop(columns = 'clientnum')\n",
    "numerical_features = credit_box_plot.select_dtypes(include=['float', 'int']).columns.tolist()\n",
    "\n",
    "# Так как у нас немного фичей можно попробовать визуализировать все наши box-plot \n",
    "plt.figure(figsize=(23, 4 * len(numerical_features))) \n",
    "for i, col in enumerate(numerical_features):\n",
    "    plt.subplot(len(numerical_features), 3, i + 1)\n",
    "    sns.boxplot(x=credit_box_plot[col])\n",
    "\n",
    "plt.tight_layout()\n",
    "plt.show()\n",
    "\n",
    "\n",
    "def detect(data, column): # определяем границы Q1 и Q2 и какое количество данных находится за этими границами\n",
    "    Q1 = data[column].quantile(0.25)\n",
    "    Q3 = data[column].quantile(0.75)\n",
    "    IQR = Q3 - Q1\n",
    "    lower = Q1 - 1.5 * IQR\n",
    "    upper = Q3 + 1.5 * IQR\n",
    "    outliers = data[(data[column] < lower) | (data[column] > upper)]\n",
    "    return outliers\n",
    "\n",
    "outlier_counts = {}\n",
    "for col in numerical_features: \n",
    "    outliers = detect(credit_box_plot, col)\n",
    "    outlier_counts[col] = len(outliers)\n",
    "    print(f\"Количество выбросов в {col}: {len(outliers)}\")\n",
    "    \n",
    "total_outliers = sum(outlier_counts.values())\n",
    "print(f\"\\nОбщее количество выбросов во всех столбцах: {total_outliers}\")"
   ],
   "outputs": [],
   "execution_count": null
  },
  {
   "cell_type": "code",
   "metadata": {},
   "source": [
    "# Давайте поиследуем аномалии в интересующих меня фичах\n",
    "interesting = ['credit_limit', 'avg_open_to_buy', 'total_amt_chng_q4_q1', 'total_trans_amt', 'total_ct_chng_q4_q1','total_revolving_bal']\n",
    "\n",
    "credit[interesting].describe() # credit_limit и avg_open_to_buy слишком различаются средние и медиана"
   ],
   "outputs": [],
   "execution_count": null
  },
  {
   "cell_type": "code",
   "metadata": {},
   "source": [
    "# Построим хистограммы, для исследования распределений\n",
    "\n",
    "plt.figure(figsize=(8,9))\n",
    "for i, x in enumerate(interesting):\n",
    "    plt.subplot(len(interesting), 1, i + 1)\n",
    "    sns.histplot(credit[x])\n",
    "\n",
    "plt.tight_layout()\n",
    "plt.show()\n",
    "\n",
    "# print(credit['customer_age'].value_counts().tail(5)) # Всё классно\n",
    "# credit['credit_limit'].value_counts().sort_values(ascending=False)"
   ],
   "outputs": [],
   "execution_count": null
  },
  {
   "attachments": {},
   "cell_type": "markdown",
   "metadata": {},
   "source": [
    "**В данном наборе данных мы работаем с клиентами банка, в таком случае удалять аномальные значения надо с очень большой аккуратностью.**\n",
    "\n",
    "Что мы можем сказать о графиках, где мы обнаружили много аномалий:\n",
    "\n",
    "В кредитном лимите на карте есть довольно большая часть людей с большим кредитным лимитом, в это можно легко поверить, но это может быть возможно заглушкой, надо проверить.\n",
    "\n",
    "'total_revolving_bal' - Общий оборотный баланс на кредитной карте, хоть и не имеет аномалий, но очень странное распределение, где большинство находится либо в 0, либо на самом максимум в 2500. Надо в этом разобраться по возможности\n",
    "\n",
    "'total_amt_chng_q4_q1' - Изменение суммы транзакции (Q4 по сравнению с Q1) \n",
    "'total_ct_chng_q4_q1' - Изменение количества транзакций (Q4 над Q1) \n",
    "Обе эти фичи имеют явное нормально распределенеи их можно дополнительно исследовать на аномалии с помощью z-test"
   ]
  },
  {
   "cell_type": "code",
   "metadata": {},
   "source": [
    "# Рассмотрим credit_limit\n",
    "Q3 = credit['credit_limit'].quantile(0.75)\n",
    "\n",
    "credit_limit_more_Q3 = credit['credit_limit'][credit['credit_limit'] > Q3]\n",
    "sns.histplot(credit_limit_more_Q3)\n",
    "plt.show()\n",
    "\n",
    "print(credit['credit_limit'].value_counts().head(2))\n",
    "print(f'Минимальное значение {credit['credit_limit'].min()}')\n",
    "print(f'Максимальное значение {credit['credit_limit'].max()}')"
   ],
   "outputs": [],
   "execution_count": null
  },
  {
   "cell_type": "markdown",
   "metadata": {},
   "source": [
    "Такие выраженные участки в начале и в конце, из-за того что скорей всего это минимум по кредитному лимиту и максимум соответственно, так что убирать это не нужно, но при работы с этими данными это стоит учитывать"
   ]
  },
  {
   "cell_type": "code",
   "metadata": {},
   "source": [
    "credit['total_revolving_bal'].value_counts().head(2) "
   ],
   "outputs": [],
   "execution_count": null
  },
  {
   "cell_type": "markdown",
   "metadata": {},
   "source": [
    "Кстати, если подумать, у нас целевая переменная это активен ли клиент или нет, а в total_revolving_bal как раз показывает оборот клиента, и у нас много значений с 0, хм давайте проверим гипотезу, то что если у нас оборот равен 0, то клиент не активен"
   ]
  },
  {
   "cell_type": "code",
   "metadata": {},
   "source": [
    "test = credit[['attrition_flag', 'total_revolving_bal']][credit['total_revolving_bal'] == 0]\n",
    "test = test.groupby('attrition_flag', as_index = False).agg({'total_revolving_bal': 'count'})\n",
    "print(credit['attrition_flag'].value_counts())\n",
    "test"
   ],
   "outputs": [],
   "execution_count": null
  },
  {
   "cell_type": "markdown",
   "metadata": {},
   "source": [
    "Итог, только по одной переменной мы нашли больше половины людей которые неактивничали на карте."
   ]
  },
  {
   "cell_type": "markdown",
   "metadata": {},
   "source": [
    "## Z score"
   ]
  },
  {
   "cell_type": "code",
   "metadata": {},
   "source": [
    "z_scores = scipy.stats.zscore(credit['total_amt_chng_q4_q1'])\n",
    "anomalies = credit['total_amt_chng_q4_q1'][abs(z_scores) > 3]\n",
    "print(anomalies.count())\n",
    "plt.figure(figsize = (25,4))\n",
    "plt.subplot(1, 2, 1)\n",
    "plt.scatter( credit['total_amt_chng_q4_q1'], credit['total_amt_chng_q4_q1'].index, alpha=0.6, label='Обычные данные')\n",
    "plt.scatter(anomalies,anomalies.index, color='red', label='Аномалии (|z| > 3)')\n",
    "plt.axvline(x=credit['total_amt_chng_q4_q1'].mean() + 3*credit['total_amt_chng_q4_q1'].std(), color='r', linestyle='--', alpha=0.5)\n",
    "plt.axvline(x=credit['total_amt_chng_q4_q1'].mean() - 3*credit['total_amt_chng_q4_q1'].std(), color='r', linestyle='--', alpha=0.5)\n",
    "plt.show()"
   ],
   "outputs": [],
   "execution_count": null
  },
  {
   "cell_type": "markdown",
   "metadata": {},
   "source": [
    "Таким способом мы нашли 163 аномалии, а box plot в сравнение обнаружил тут 396 аномалий, что примерно равняется в отклонение 2.1 сигмы\n",
    "\n",
    "В данной переменной - изменение суммы транзакций я бы не стал ничего удалять без предварительной договорённости с владельцем данных, хотя для некоторых алгоритмов МО такие аномальные значения могут быть критическими, но мы проводим обычный анализ, поэтому ничего удалять не станем"
   ]
  },
  {
   "cell_type": "code",
   "metadata": {},
   "source": [
    "# Посмотрим на категориальные признаки\n",
    "\n",
    "categorical_features = credit.select_dtypes(include = ['object']).columns.to_list() \n",
    "plt.figure(figsize = (9, 15))\n",
    "for i, column in enumerate(categorical_features[1:]):\n",
    "    plt.subplot(len(categorical_features), 1, i + 1)\n",
    "    sns.histplot(credit[column])\n",
    "    \n",
    "plt.tight_layout()\n",
    "plt.show()\n"
   ],
   "outputs": [],
   "execution_count": null
  },
  {
   "cell_type": "markdown",
   "metadata": {},
   "source": [
    "Единственное что тут можно назвать аномалией это категория карты, но это обусловлено малым количеством людей, которые обладают картами platimun/gold не более"
   ]
  },
  {
   "cell_type": "markdown",
   "metadata": {},
   "source": [
    "## Isolation forest"
   ]
  },
  {
   "cell_type": "code",
   "metadata": {},
   "source": [
    "credit_isolation_forest = credit.copy().drop(columns = 'clientnum')\n",
    "\n",
    "# Разделяем на категориальные и остальные для правильной обработки\n",
    "categorical_features = credit_isolation_forest.select_dtypes(include = ['object']).columns.to_list()\n",
    "numerical_features = credit_isolation_forest.select_dtypes(exclude=['object']).columns.to_list()\n",
    "\n",
    "label_encoders = {}\n",
    "for col in categorical_features: # энкодинг категориальных признаков\n",
    "    label_encoders[col] = LabelEncoder()\n",
    "    credit_isolation_forest[col] = label_encoders[col].fit_transform(credit_isolation_forest[col]) \n",
    "\n",
    "scaler = StandardScaler()\n",
    "iso_scaled = scaler.fit_transform(credit_isolation_forest[numerical_features + categorical_features])\n",
    "\n",
    "iso_forest = IsolationForest(n_estimators=100, contamination='auto')\n",
    "iso_forest.fit(iso_scaled)\n",
    "\n",
    "credit_isolation_forest['anomaly'] = iso_forest.predict(iso_scaled)\n",
    "credit_isolation_forest['anomaly_score'] = iso_forest.decision_function(iso_scaled)\n",
    "\n",
    "print(f' Средний score: {credit_isolation_forest['anomaly_score'].mean()}')\n",
    "print(f' Количество аномалий найденных Isolation_forest: {np.where(credit_isolation_forest['anomaly'] == 1, 0, 1).sum()}') # -1 это аномалия"
   ],
   "outputs": [],
   "execution_count": null
  },
  {
   "cell_type": "markdown",
   "metadata": {},
   "source": [
    "Визуализировать столько параметров будет сложновато\n",
    "\n",
    "Воспользуемся PCA, чтобы уменьшить размерность для возможности визуализировать итог работы Isolation Forest"
   ]
  },
  {
   "cell_type": "code",
   "metadata": {},
   "source": [
    "credit_copy_2 = credit.copy()\n",
    "\n",
    "X = credit_copy_2.drop(columns = ['clientnum','attrition_flag']).select_dtypes(exclude = ['object'])\n",
    "feature_names = X.columns\n",
    "scaler = StandardScaler()\n",
    "X_scaled = scaler.fit_transform(X)\n",
    "\n",
    "pca = PCA(n_components=2)\n",
    "pca.fit(X_scaled)\n",
    "X_pca = pca.transform(X_scaled)\n",
    "\n",
    "feature_importances = np.sum(pca.components_**2, axis=0)\n",
    "#  Нормализуем, чтобы значимость была от 0 до 1\n",
    "feature_importances /= np.sum(feature_importances)\n",
    "\n",
    "\n",
    "importance_df = pd.DataFrame({'Feature': feature_names, 'Importance': feature_importances})\n",
    "importance_df = importance_df.sort_values('Importance', ascending=False)\n",
    "\n",
    "print(\"Суммарная объясненная дисперсия:\", np.sum(pca.explained_variance_ratio_)) # Маловато ну что поделаешь\n",
    "importance_df = importance_df.reset_index(drop = True).iloc[0:2]\n",
    "importance_df = importance_df['Feature'].to_list()"
   ],
   "outputs": [],
   "execution_count": null
  },
  {
   "cell_type": "code",
   "metadata": {},
   "source": [
    "forest_PCA = credit[importance_df].head(500) # Возьмём данных поменьше для наглядности\n",
    "\n",
    "scaler = StandardScaler()\n",
    "iso_scaled_PCA = scaler.fit_transform(forest_PCA)\n",
    "\n",
    "model_iso_forest_PCA = IsolationForest(n_estimators=100, contamination='auto')\n",
    "model_iso_forest_PCA.fit(iso_scaled_PCA)\n",
    "\n",
    "forest_PCA['anomaly'] = model_iso_forest_PCA.predict(iso_scaled_PCA)\n",
    "forest_PCA['anomaly_score'] = model_iso_forest_PCA.decision_function(iso_scaled_PCA)\n",
    "\n",
    "print(f' Средний score: {forest_PCA['anomaly_score'].mean()}')\n",
    "print(fr' Количество аномалий найденных Isolation_forest: {np.where(forest_PCA['anomaly'] == 1, 0, 1).sum()}, всего значений {len(forest_PCA)}')\n",
    "\n",
    "plt.figure(figsize = (10,6))\n",
    "plt.scatter(forest_PCA['avg_open_to_buy'], forest_PCA['total_trans_amt'], c = 'blue')\n",
    "plt.scatter(forest_PCA['avg_open_to_buy'][forest_PCA['anomaly'] == -1], forest_PCA['total_trans_amt'][forest_PCA['anomaly'] == -1], c = 'red')\n",
    "plt.show()\n"
   ],
   "outputs": [],
   "execution_count": null
  },
  {
   "cell_type": "markdown",
   "metadata": {},
   "source": [
    "# Кластаризация\n",
    "В этом датасете есть целевая переменная, указанная автором данных, но моя цель посравнивать алгоритмы Кластаризации на реальных данных, так что давайте попробуем вместе с сравнением основных алгоритмов, также постараться предсказывать и целевую метку (почему бы и нет)"
   ]
  },
  {
   "cell_type": "code",
   "metadata": {},
   "source": [
    "claster_df = credit.copy()\n",
    "index = claster_df['clientnum']\n",
    "\n",
    "X_train = claster_df.drop(columns = ['clientnum','attrition_flag'])\n",
    "y_train = claster_df['attrition_flag'].replace({'Attrited Customer':1,'Existing Customer':0})"
   ],
   "outputs": [],
   "execution_count": null
  },
  {
   "cell_type": "code",
   "metadata": {},
   "source": [
    "# Находим самые важные фичи для нашей целевой переменной (чтобы в теории смогли предсказать нашу целевую переменную, \n",
    "# которые будем использовать в дальнейшем для анализа\n",
    "X = credit.drop(columns=['clientnum', 'attrition_flag'])\n",
    "y = credit['attrition_flag']\n",
    "\n",
    "numerical_features = X.select_dtypes(include=['float64', 'int64'])\n",
    "categorical_features = X.select_dtypes(include=['object'])\n",
    "\n",
    "# бинн\n",
    "discretizer = KBinsDiscretizer(n_bins=6, encode='ordinal', strategy='uniform')\n",
    "numerical_discretized = discretizer.fit_transform(numerical_features)\n",
    "numerical_discretized_df = pd.DataFrame(numerical_discretized, columns=numerical_features.columns)\n",
    "\n",
    "categorical_encoded = pd.get_dummies(categorical_features, dtype=int, drop_first = True)\n",
    "\n",
    "X_processed = pd.concat([numerical_discretized_df, categorical_encoded], axis=1)\n",
    "\n",
    "bestfeatures = SelectKBest(score_func=chi2, k='all')\n",
    "fit = bestfeatures.fit(X_processed, y)\n",
    "\n",
    "dfscores = pd.DataFrame(fit.scores_)\n",
    "dfcolumns = pd.DataFrame(X_processed.columns)\n",
    "\n",
    "featureScores = pd.concat([dfcolumns, dfscores], axis=1)\n",
    "featureScores.columns = ['Specs', 'Score']\n",
    "feature = featureScores.nlargest(5, 'Score')\n",
    "feature['Score'] = feature['Score'].round(0)\n",
    "main_feature = feature.sort_values('Score', ascending=False)['Specs'].to_list()\n",
    "feature"
   ],
   "outputs": [],
   "execution_count": null
  },
  {
   "cell_type": "raw",
   "metadata": {},
   "source": [
    "Самым важной фичой для нашей целевой переменной оказался total_revolving_bal, тоесть мы правильно определили выше, что от этого параметра многое зависит."
   ]
  },
  {
   "cell_type": "markdown",
   "metadata": {},
   "source": [
    "# K-means"
   ]
  },
  {
   "cell_type": "code",
   "metadata": {
    "scrolled": true
   },
   "source": [
    "# Так как мы себе поставили задачу приблизиться к обычной классификации, возьмём только главные фичи для нашей целевой переменной, чтобы проверить,\n",
    "# как они распределены\n",
    "plt.figure(1 , figsize = (20 , 25))\n",
    "n = 0 \n",
    "for x in main_feature:\n",
    "    for y in main_feature:\n",
    "        n += 1\n",
    "        plt.subplot(5 , 5 , n)\n",
    "        plt.subplots_adjust(hspace = 0.5, wspace = 0.5)\n",
    "        plt.scatter(x = x , y = y , data = X_train[main_feature].head(500), c = y_train.head(500))\n",
    "        plt.ylabel(y)\n",
    "        plt.xlabel(x)\n",
    "plt.show()"
   ],
   "outputs": [],
   "execution_count": null
  },
  {
   "cell_type": "markdown",
   "metadata": {},
   "source": [
    "Тут зависимость не совсем под кластаризацию, если опираться на целевую переменную. Но всё-же с несколькими переменными можно поработать. "
   ]
  },
  {
   "cell_type": "code",
   "metadata": {},
   "source": [
    "from sklearn.cluster import KMeans\n",
    "from sklearn.metrics import silhouette_samples, silhouette_score\n",
    "import matplotlib.pyplot as plt\n",
    "from sklearn.metrics import davies_bouldin_score\n",
    "\n",
    "# фичи которая показалась мне интересна\n",
    "X_scaled = X_train[['total_trans_amt', 'total_revolving_bal']]\n",
    "# Со скалером, результаты алгоритма становились хуже, поэтому в kmeans без него\n",
    "\n",
    "k_means = KMeans(n_clusters = 2, random_state = 45) # Мы знаем сколько нужно кластеров поэтому без локтя\n",
    "k_means = k_means.fit(X_scaled)\n",
    "clusters = k_means.predict(X_scaled)\n",
    "\n",
    "silhouette_avg = silhouette_score(X_scaled, clusters)\n",
    "print(f\"Среднее значение силуэта: {silhouette_avg :.2f}\")\n",
    "print(f\" Оценка Дэвиса: {davies_bouldin_score(X_scaled, clusters)}\")\n",
    "print(f\" Точность: {accuracy_score(y_train, clusters)}\")"
   ],
   "outputs": [],
   "execution_count": null
  },
  {
   "cell_type": "markdown",
   "metadata": {},
   "source": [
    "С точки зрения силуэта неплохо, но обычная метрика для классфикации не сработает, так как Kmeans делит данные как ему вздумается, у него нет учителя, но я поигрался с random_state и он смог выдать 0.76, что я считаю не очень и плохо, для всего-то двух переменных, но всё-же precision здесь нецелеобразно использовать, но почему бы и нет"
   ]
  },
  {
   "cell_type": "code",
   "metadata": {
    "scrolled": true
   },
   "source": [
    "plt.figure(1, figsize = (20, 10))\n",
    "\n",
    "plt.subplot(1, 2, 1)\n",
    "plt.scatter(X_train['total_trans_amt'], X_train['total_revolving_bal'], c=clusters) \n",
    "plt.title('total_trans_amt/total_revolving_bal')\n",
    "plt.xlabel('Кластаризация')\n",
    "\n",
    "plt.subplot(1, 2, 2)\n",
    "plt.scatter(X_train['total_trans_amt'], X_train['total_revolving_bal'], c=y_train) \n",
    "plt.title('total_trans_amt/total_revolving_bal')\n",
    "plt.xlabel('Реальное разделение')\n"
   ],
   "outputs": [],
   "execution_count": null
  },
  {
   "cell_type": "markdown",
   "metadata": {},
   "source": [
    "Эти фичи буду использовать и для других алгоритмов, для сравнения"
   ]
  },
  {
   "cell_type": "code",
   "metadata": {
    "scrolled": true
   },
   "source": [
    "# Попробуем выставить параметр оснвоываясь на методе локтя\n",
    "\n",
    "X_scaled = X_train[['total_trans_amt', 'total_revolving_bal']]\n",
    "\n",
    "k_means = KMeans(n_clusters = 4, random_state = 45)\n",
    "k_means = k_means.fit(X_scaled)\n",
    "clusters = k_means.predict(X_scaled)\n",
    "\n",
    "inertia = []\n",
    "for k in range(1, 10):\n",
    "    kmeans = KMeans(n_clusters=k, random_state=42)\n",
    "    kmeans.fit(X_scaled)\n",
    "    inertia.append(kmeans.inertia_)\n",
    "\n",
    "plt.plot(range(1, 10), inertia, marker='o')\n",
    "plt.xlabel('Число кластеров')\n",
    "plt.ylabel('Inertia')\n",
    "plt.title('Метод локтя')\n",
    "plt.show()\n",
    "\n",
    "silhouette_avg = silhouette_score(X_scaled, clusters)\n",
    "print(f\"Среднее значение силуэта: {silhouette_avg:.2f}\")\n",
    "print(f\" Оценка Дэвиса: {davies_bouldin_score(X_scaled, clusters)}\")"
   ],
   "outputs": [],
   "execution_count": null
  },
  {
   "cell_type": "markdown",
   "metadata": {},
   "source": [
    "Результат ухудшился"
   ]
  },
  {
   "cell_type": "code",
   "metadata": {
    "scrolled": true
   },
   "source": [
    "plt.scatter(X_train['total_trans_amt'], X_train['total_revolving_bal'], c=clusters) \n",
    "plt.title('total_trans_amt/total_revolving_bal')\n",
    "plt.xlabel('Кластаризация')"
   ],
   "outputs": [],
   "execution_count": null
  },
  {
   "cell_type": "code",
   "metadata": {},
   "source": [
    "## Поработаем с самыми главными фичами, которые нашли выше \n",
    "X_scaled = X_train[main_feature]\n",
    "\n",
    "k_means = KMeans(n_clusters = 2)\n",
    "k_means = k_means.fit(X_scaled)\n",
    "clusters = k_means.predict(X_scaled)\n",
    "    \n",
    "silhouette_avg = silhouette_score(X_scaled, clusters)\n",
    "print(f\"Среднее значение силуэта: {silhouette_avg:.2f}\")\n",
    "print(f\"Оценка Дэвиса: {davies_bouldin_score(X_scaled, clusters)}\")"
   ],
   "outputs": [],
   "execution_count": null
  },
  {
   "cell_type": "code",
   "metadata": {},
   "source": [
    "## Поработаем со всеми фичам\n",
    "\n",
    "X_scaled = pd.get_dummies(X_train, dtype = int)\n",
    "k_means = KMeans(n_clusters = 2)\n",
    "k_means = k_means.fit(X_scaled)\n",
    "clusters = k_means.predict(X_scaled)\n",
    "    \n",
    "silhouette_avg = silhouette_score(X_scaled, clusters)\n",
    "print(f\"Среднее значение силуэта: {silhouette_avg:.2f}\")\n",
    "print(f\"Оценка Дэвиса: {davies_bouldin_score(X_scaled, clusters)}\")"
   ],
   "outputs": [],
   "execution_count": null
  },
  {
   "cell_type": "markdown",
   "metadata": {},
   "source": [
    "# DBSCAN"
   ]
  },
  {
   "cell_type": "code",
   "metadata": {},
   "source": [
    "scaler = StandardScaler()\n",
    "X_scaled_2_feature = scaler.fit_transform(X_train[['total_trans_amt', 'total_revolving_bal']])\n",
    "\n",
    "min_samples = 10  # 2 фичи\n",
    "\n",
    "# Вычисляем eps по графику\n",
    "nn = NearestNeighbors(n_neighbors=min_samples)\n",
    "nn.fit(X_scaled_2_feature)\n",
    "distances, _ = nn.kneighbors(X_scaled_2_feature)\n",
    "k_distances =  np.sort(distances[:, -1])\n",
    "\n",
    "plt.plot(k_distances)\n",
    "plt.xlabel(\"Points sorted by distance\")\n",
    "plt.ylabel(f\"{min_samples}-th nearest neighbor distance\")\n",
    "plt.axhline(y=0.5, color='r', linestyle='--')  # Примерное значение eps\n",
    "plt.show()\n",
    "\n",
    "\n",
    "DBSCAN_2_f = DBSCAN(eps = 0.3, min_samples=10)\n",
    "clusters = DBSCAN_2_f.fit_predict(X_scaled_2_feature)\n",
    "\n",
    "plt.scatter(X_scaled_2_feature[:, 0], X_scaled_2_feature[:, 1], c=clusters) \n",
    "plt.title('total_trans_amt/total_revolving_bal')\n",
    "plt.show()\n",
    "\n",
    "print(f\"Среднее значение силуэта для двух фич: {silhouette_score(X_scaled_2_feature, clusters)}\")\n",
    "print(f\" Оценка Дэвиса для двух фич: {davies_bouldin_score(X_scaled_2_feature, clusters)}\")\n",
    "\n",
    "X_scaled_main_feature = scaler.fit_transform(X_train[main_feature])\n",
    "DBSCAN_main = DBSCAN(eps = 0.3, min_samples=10)\n",
    "clusters = DBSCAN_main.fit_predict(X_scaled_main_feature)\n",
    "\n",
    "print(f\"Среднее значение силуэта для основных фич: {silhouette_score(X_scaled_main_feature, clusters)}\")\n",
    "print(f\" Оценка Дэвиса для основных фич: {davies_bouldin_score(X_scaled_main_feature, clusters)}\")\n"
   ],
   "outputs": [],
   "execution_count": null
  },
  {
   "cell_type": "markdown",
   "metadata": {},
   "source": [
    "## Иерархическая кластаризация"
   ]
  },
  {
   "cell_type": "code",
   "metadata": {},
   "source": [
    "scaler = StandardScaler()\n",
    "X_scaled_2_feature = scaler.fit_transform(X_train[['total_trans_amt', 'total_revolving_bal']])\n",
    "\n",
    "Agg_clusters = AgglomerativeClustering(n_clusters=2)\n",
    "clusters = Agg_clusters.fit_predict(X_scaled_2_feature)\n",
    "\n",
    "plt.scatter(X_scaled_2_feature[:, 0], X_scaled_2_feature[:, 1], c=clusters) \n",
    "plt.title('total_trans_amt/total_revolving_bal')\n",
    "plt.show()\n",
    "\n",
    "print(f\"Среднее значение силуэта для двух фич: {silhouette_score(X_scaled_2_feature, clusters)}\")\n",
    "print(f\" Оценка Дэвиса для двух фич: {davies_bouldin_score(X_scaled_2_feature, clusters)}\")"
   ],
   "outputs": [],
   "execution_count": null
  },
  {
   "cell_type": "markdown",
   "metadata": {},
   "source": [
    "# Сделаем сравнение алгоритмов"
   ]
  },
  {
   "cell_type": "code",
   "metadata": {},
   "source": [
    "plt.figure(1 , figsize = (20 , 20))\n",
    "scaler = StandardScaler()\n",
    "\n",
    "k_means = KMeans(n_clusters = 2) \n",
    "dbscan = DBSCAN(eps = 0.3, min_samples=10)\n",
    "Agg_clusters = AgglomerativeClustering(n_clusters=2)\n",
    "n = 0\n",
    "\n",
    "for x_y in [['total_trans_amt','total_revolving_bal'], ['total_trans_amt', 'total_trans_ct'], ['avg_utilization_ratio' ,'total_trans_amt']]:\n",
    "    X_scaled = scaler.fit_transform(X_train[x_y])\n",
    "    \n",
    "    clusters_kmeans = k_means.fit_predict(X_train[x_y])\n",
    "    plt.subplot(3,3, n+1)\n",
    "    plt.scatter(x_y[0], x_y[1], data = X_train, c=clusters_kmeans)\n",
    "    plt.xlabel(x_y[0])\n",
    "    plt.ylabel(x_y[1])\n",
    "    plt.title(f'K-Means: {x_y[0]} vs {x_y[1]}')\n",
    "\n",
    "    clusters_dbscan = dbscan.fit_predict(X_scaled)\n",
    "    plt.subplot(3,3, n+2)\n",
    "    plt.scatter(X_scaled[:, 0], X_scaled[:, 1], c=clusters_dbscan)\n",
    "    plt.xlabel(x_y[0])\n",
    "    plt.ylabel(x_y[1])\n",
    "    plt.title(f'DBSCAN: {x_y[0]} vs {x_y[1]}')\n",
    "\n",
    "    clusters_agg = Agg_clusters.fit_predict(X_scaled)\n",
    "    plt.subplot(3,3, n+3)\n",
    "    plt.scatter(X_scaled[:, 0], X_scaled[:, 1], c=clusters_agg) \n",
    "    plt.xlabel(x_y[0])\n",
    "    plt.ylabel(x_y[1])\n",
    "    plt.title(f'AGG: {x_y[0]} vs {x_y[1]}')\n",
    "\n",
    "    n += 3\n",
    "    \n",
    "plt.tight_layout()\n",
    "plt.show()"
   ],
   "outputs": [],
   "execution_count": null
  }
 ],
 "metadata": {
  "colab": {
   "provenance": [],
   "toc_visible": true
  },
  "kernelspec": {
   "display_name": "Python 3 (ipykernel)",
   "language": "python",
   "name": "python3"
  },
  "language_info": {
   "codemirror_mode": {
    "name": "ipython",
    "version": 3
   },
   "file_extension": ".py",
   "mimetype": "text/x-python",
   "name": "python",
   "nbconvert_exporter": "python",
   "pygments_lexer": "ipython3",
   "version": "3.12.4"
  },
  "widgets": {
   "application/vnd.jupyter.widget-state+json": {
    "01fdcd1b855343f7827307f80bdeb8b5": {
     "model_module": "@jupyter-widgets/base",
     "model_module_version": "1.2.0",
     "model_name": "LayoutModel",
     "state": {
      "_model_module": "@jupyter-widgets/base",
      "_model_module_version": "1.2.0",
      "_model_name": "LayoutModel",
      "_view_count": null,
      "_view_module": "@jupyter-widgets/base",
      "_view_module_version": "1.2.0",
      "_view_name": "LayoutView",
      "align_content": null,
      "align_items": null,
      "align_self": null,
      "border": null,
      "bottom": null,
      "display": null,
      "flex": null,
      "flex_flow": null,
      "grid_area": null,
      "grid_auto_columns": null,
      "grid_auto_flow": null,
      "grid_auto_rows": null,
      "grid_column": null,
      "grid_gap": null,
      "grid_row": null,
      "grid_template_areas": null,
      "grid_template_columns": null,
      "grid_template_rows": null,
      "height": null,
      "justify_content": null,
      "justify_items": null,
      "left": null,
      "margin": null,
      "max_height": null,
      "max_width": null,
      "min_height": null,
      "min_width": null,
      "object_fit": null,
      "object_position": null,
      "order": null,
      "overflow": null,
      "overflow_x": null,
      "overflow_y": null,
      "padding": null,
      "right": null,
      "top": null,
      "visibility": null,
      "width": null
     }
    },
    "0d554383e87e4368a19e13c7ec9c4ba8": {
     "model_module": "@jupyter-widgets/controls",
     "model_module_version": "1.5.0",
     "model_name": "DescriptionStyleModel",
     "state": {
      "_model_module": "@jupyter-widgets/controls",
      "_model_module_version": "1.5.0",
      "_model_name": "DescriptionStyleModel",
      "_view_count": null,
      "_view_module": "@jupyter-widgets/base",
      "_view_module_version": "1.2.0",
      "_view_name": "StyleView",
      "description_width": ""
     }
    },
    "0fa44ed0cde44d8497d4e15b02ffb40b": {
     "model_module": "@jupyter-widgets/base",
     "model_module_version": "1.2.0",
     "model_name": "LayoutModel",
     "state": {
      "_model_module": "@jupyter-widgets/base",
      "_model_module_version": "1.2.0",
      "_model_name": "LayoutModel",
      "_view_count": null,
      "_view_module": "@jupyter-widgets/base",
      "_view_module_version": "1.2.0",
      "_view_name": "LayoutView",
      "align_content": null,
      "align_items": null,
      "align_self": null,
      "border": null,
      "bottom": null,
      "display": null,
      "flex": null,
      "flex_flow": null,
      "grid_area": null,
      "grid_auto_columns": null,
      "grid_auto_flow": null,
      "grid_auto_rows": null,
      "grid_column": null,
      "grid_gap": null,
      "grid_row": null,
      "grid_template_areas": null,
      "grid_template_columns": null,
      "grid_template_rows": null,
      "height": null,
      "justify_content": null,
      "justify_items": null,
      "left": null,
      "margin": null,
      "max_height": null,
      "max_width": null,
      "min_height": null,
      "min_width": null,
      "object_fit": null,
      "object_position": null,
      "order": null,
      "overflow": null,
      "overflow_x": null,
      "overflow_y": null,
      "padding": null,
      "right": null,
      "top": null,
      "visibility": null,
      "width": null
     }
    },
    "17ef48a33afd4d08badd4debabfb525a": {
     "model_module": "@jupyter-widgets/controls",
     "model_module_version": "1.5.0",
     "model_name": "HTMLModel",
     "state": {
      "_dom_classes": [],
      "_model_module": "@jupyter-widgets/controls",
      "_model_module_version": "1.5.0",
      "_model_name": "HTMLModel",
      "_view_count": null,
      "_view_module": "@jupyter-widgets/controls",
      "_view_module_version": "1.5.0",
      "_view_name": "HTMLView",
      "description": "",
      "description_tooltip": null,
      "layout": "IPY_MODEL_2ebe643688a847d7b7a422ebfb6f63dc",
      "placeholder": "​",
      "style": "IPY_MODEL_50de50f9f53444ef831742f2c7e2c902",
      "value": " 1/1 [00:14&lt;00:00, 14.54s/it]"
     }
    },
    "1aea8614ff3846509043ece19338ef7d": {
     "model_module": "@jupyter-widgets/base",
     "model_module_version": "1.2.0",
     "model_name": "LayoutModel",
     "state": {
      "_model_module": "@jupyter-widgets/base",
      "_model_module_version": "1.2.0",
      "_model_name": "LayoutModel",
      "_view_count": null,
      "_view_module": "@jupyter-widgets/base",
      "_view_module_version": "1.2.0",
      "_view_name": "LayoutView",
      "align_content": null,
      "align_items": null,
      "align_self": null,
      "border": null,
      "bottom": null,
      "display": null,
      "flex": null,
      "flex_flow": null,
      "grid_area": null,
      "grid_auto_columns": null,
      "grid_auto_flow": null,
      "grid_auto_rows": null,
      "grid_column": null,
      "grid_gap": null,
      "grid_row": null,
      "grid_template_areas": null,
      "grid_template_columns": null,
      "grid_template_rows": null,
      "height": null,
      "justify_content": null,
      "justify_items": null,
      "left": null,
      "margin": null,
      "max_height": null,
      "max_width": null,
      "min_height": null,
      "min_width": null,
      "object_fit": null,
      "object_position": null,
      "order": null,
      "overflow": null,
      "overflow_x": null,
      "overflow_y": null,
      "padding": null,
      "right": null,
      "top": null,
      "visibility": null,
      "width": null
     }
    },
    "1df482dd753e46e6b8e8727c70e7eff7": {
     "model_module": "@jupyter-widgets/controls",
     "model_module_version": "1.5.0",
     "model_name": "FloatProgressModel",
     "state": {
      "_dom_classes": [],
      "_model_module": "@jupyter-widgets/controls",
      "_model_module_version": "1.5.0",
      "_model_name": "FloatProgressModel",
      "_view_count": null,
      "_view_module": "@jupyter-widgets/controls",
      "_view_module_version": "1.5.0",
      "_view_name": "ProgressView",
      "bar_style": "success",
      "description": "",
      "description_tooltip": null,
      "layout": "IPY_MODEL_0fa44ed0cde44d8497d4e15b02ffb40b",
      "max": 5,
      "min": 0,
      "orientation": "horizontal",
      "style": "IPY_MODEL_c0081c30cb574c7b8ff7e95fa1850b48",
      "value": 5
     }
    },
    "258e8080281f4fb086b409c07f679aa9": {
     "model_module": "@jupyter-widgets/controls",
     "model_module_version": "1.5.0",
     "model_name": "HBoxModel",
     "state": {
      "_dom_classes": [],
      "_model_module": "@jupyter-widgets/controls",
      "_model_module_version": "1.5.0",
      "_model_name": "HBoxModel",
      "_view_count": null,
      "_view_module": "@jupyter-widgets/controls",
      "_view_module_version": "1.5.0",
      "_view_name": "HBoxView",
      "box_style": "",
      "children": [
       "IPY_MODEL_b070cbb3163e426b904ee6f38ee785b0",
       "IPY_MODEL_3f08a080b78e4822a302807ced380b7a",
       "IPY_MODEL_8b42a4ce42b546f79171f615e1cf65d3"
      ],
      "layout": "IPY_MODEL_d034f98b9b07481d9f33344174d8b436"
     }
    },
    "25c64a3b42c240f4aae3976abbe077db": {
     "model_module": "@jupyter-widgets/controls",
     "model_module_version": "1.5.0",
     "model_name": "DescriptionStyleModel",
     "state": {
      "_model_module": "@jupyter-widgets/controls",
      "_model_module_version": "1.5.0",
      "_model_name": "DescriptionStyleModel",
      "_view_count": null,
      "_view_module": "@jupyter-widgets/base",
      "_view_module_version": "1.2.0",
      "_view_name": "StyleView",
      "description_width": ""
     }
    },
    "2ebe643688a847d7b7a422ebfb6f63dc": {
     "model_module": "@jupyter-widgets/base",
     "model_module_version": "1.2.0",
     "model_name": "LayoutModel",
     "state": {
      "_model_module": "@jupyter-widgets/base",
      "_model_module_version": "1.2.0",
      "_model_name": "LayoutModel",
      "_view_count": null,
      "_view_module": "@jupyter-widgets/base",
      "_view_module_version": "1.2.0",
      "_view_name": "LayoutView",
      "align_content": null,
      "align_items": null,
      "align_self": null,
      "border": null,
      "bottom": null,
      "display": null,
      "flex": null,
      "flex_flow": null,
      "grid_area": null,
      "grid_auto_columns": null,
      "grid_auto_flow": null,
      "grid_auto_rows": null,
      "grid_column": null,
      "grid_gap": null,
      "grid_row": null,
      "grid_template_areas": null,
      "grid_template_columns": null,
      "grid_template_rows": null,
      "height": null,
      "justify_content": null,
      "justify_items": null,
      "left": null,
      "margin": null,
      "max_height": null,
      "max_width": null,
      "min_height": null,
      "min_width": null,
      "object_fit": null,
      "object_position": null,
      "order": null,
      "overflow": null,
      "overflow_x": null,
      "overflow_y": null,
      "padding": null,
      "right": null,
      "top": null,
      "visibility": null,
      "width": null
     }
    },
    "3c3170d17f924115a0ba9c993504e593": {
     "model_module": "@jupyter-widgets/controls",
     "model_module_version": "1.5.0",
     "model_name": "ProgressStyleModel",
     "state": {
      "_model_module": "@jupyter-widgets/controls",
      "_model_module_version": "1.5.0",
      "_model_name": "ProgressStyleModel",
      "_view_count": null,
      "_view_module": "@jupyter-widgets/base",
      "_view_module_version": "1.2.0",
      "_view_name": "StyleView",
      "bar_color": null,
      "description_width": ""
     }
    },
    "3f08a080b78e4822a302807ced380b7a": {
     "model_module": "@jupyter-widgets/controls",
     "model_module_version": "1.5.0",
     "model_name": "FloatProgressModel",
     "state": {
      "_dom_classes": [],
      "_model_module": "@jupyter-widgets/controls",
      "_model_module_version": "1.5.0",
      "_model_name": "FloatProgressModel",
      "_view_count": null,
      "_view_module": "@jupyter-widgets/controls",
      "_view_module_version": "1.5.0",
      "_view_name": "ProgressView",
      "bar_style": "success",
      "description": "",
      "description_tooltip": null,
      "layout": "IPY_MODEL_645eecd6cd8d4b2289a8bdacd45692f2",
      "max": 1,
      "min": 0,
      "orientation": "horizontal",
      "style": "IPY_MODEL_cff23a8aa53c4caaa1636b19b58485f1",
      "value": 1
     }
    },
    "42c6708ab80b4cc0a9a59ae3877f5213": {
     "model_module": "@jupyter-widgets/base",
     "model_module_version": "1.2.0",
     "model_name": "LayoutModel",
     "state": {
      "_model_module": "@jupyter-widgets/base",
      "_model_module_version": "1.2.0",
      "_model_name": "LayoutModel",
      "_view_count": null,
      "_view_module": "@jupyter-widgets/base",
      "_view_module_version": "1.2.0",
      "_view_name": "LayoutView",
      "align_content": null,
      "align_items": null,
      "align_self": null,
      "border": null,
      "bottom": null,
      "display": null,
      "flex": null,
      "flex_flow": null,
      "grid_area": null,
      "grid_auto_columns": null,
      "grid_auto_flow": null,
      "grid_auto_rows": null,
      "grid_column": null,
      "grid_gap": null,
      "grid_row": null,
      "grid_template_areas": null,
      "grid_template_columns": null,
      "grid_template_rows": null,
      "height": null,
      "justify_content": null,
      "justify_items": null,
      "left": null,
      "margin": null,
      "max_height": null,
      "max_width": null,
      "min_height": null,
      "min_width": null,
      "object_fit": null,
      "object_position": null,
      "order": null,
      "overflow": null,
      "overflow_x": null,
      "overflow_y": null,
      "padding": null,
      "right": null,
      "top": null,
      "visibility": null,
      "width": null
     }
    },
    "49cf14e6705540e2b4256a4d855e83b3": {
     "model_module": "@jupyter-widgets/controls",
     "model_module_version": "1.5.0",
     "model_name": "DescriptionStyleModel",
     "state": {
      "_model_module": "@jupyter-widgets/controls",
      "_model_module_version": "1.5.0",
      "_model_name": "DescriptionStyleModel",
      "_view_count": null,
      "_view_module": "@jupyter-widgets/base",
      "_view_module_version": "1.2.0",
      "_view_name": "StyleView",
      "description_width": ""
     }
    },
    "50de50f9f53444ef831742f2c7e2c902": {
     "model_module": "@jupyter-widgets/controls",
     "model_module_version": "1.5.0",
     "model_name": "DescriptionStyleModel",
     "state": {
      "_model_module": "@jupyter-widgets/controls",
      "_model_module_version": "1.5.0",
      "_model_name": "DescriptionStyleModel",
      "_view_count": null,
      "_view_module": "@jupyter-widgets/base",
      "_view_module_version": "1.2.0",
      "_view_name": "StyleView",
      "description_width": ""
     }
    },
    "541f1814f95f47418b6698cf3dce0ad1": {
     "model_module": "@jupyter-widgets/controls",
     "model_module_version": "1.5.0",
     "model_name": "HTMLModel",
     "state": {
      "_dom_classes": [],
      "_model_module": "@jupyter-widgets/controls",
      "_model_module_version": "1.5.0",
      "_model_name": "HTMLModel",
      "_view_count": null,
      "_view_module": "@jupyter-widgets/controls",
      "_view_module_version": "1.5.0",
      "_view_name": "HTMLView",
      "description": "",
      "description_tooltip": null,
      "layout": "IPY_MODEL_6299de3a1a714051be24daf3ef0bf4bf",
      "placeholder": "​",
      "style": "IPY_MODEL_25c64a3b42c240f4aae3976abbe077db",
      "value": "Summarize dataset: 100%"
     }
    },
    "6299de3a1a714051be24daf3ef0bf4bf": {
     "model_module": "@jupyter-widgets/base",
     "model_module_version": "1.2.0",
     "model_name": "LayoutModel",
     "state": {
      "_model_module": "@jupyter-widgets/base",
      "_model_module_version": "1.2.0",
      "_model_name": "LayoutModel",
      "_view_count": null,
      "_view_module": "@jupyter-widgets/base",
      "_view_module_version": "1.2.0",
      "_view_name": "LayoutView",
      "align_content": null,
      "align_items": null,
      "align_self": null,
      "border": null,
      "bottom": null,
      "display": null,
      "flex": null,
      "flex_flow": null,
      "grid_area": null,
      "grid_auto_columns": null,
      "grid_auto_flow": null,
      "grid_auto_rows": null,
      "grid_column": null,
      "grid_gap": null,
      "grid_row": null,
      "grid_template_areas": null,
      "grid_template_columns": null,
      "grid_template_rows": null,
      "height": null,
      "justify_content": null,
      "justify_items": null,
      "left": null,
      "margin": null,
      "max_height": null,
      "max_width": null,
      "min_height": null,
      "min_width": null,
      "object_fit": null,
      "object_position": null,
      "order": null,
      "overflow": null,
      "overflow_x": null,
      "overflow_y": null,
      "padding": null,
      "right": null,
      "top": null,
      "visibility": null,
      "width": null
     }
    },
    "630d41e16e844d2a9802fa87bea3e15f": {
     "model_module": "@jupyter-widgets/controls",
     "model_module_version": "1.5.0",
     "model_name": "DescriptionStyleModel",
     "state": {
      "_model_module": "@jupyter-widgets/controls",
      "_model_module_version": "1.5.0",
      "_model_name": "DescriptionStyleModel",
      "_view_count": null,
      "_view_module": "@jupyter-widgets/base",
      "_view_module_version": "1.2.0",
      "_view_name": "StyleView",
      "description_width": ""
     }
    },
    "645eecd6cd8d4b2289a8bdacd45692f2": {
     "model_module": "@jupyter-widgets/base",
     "model_module_version": "1.2.0",
     "model_name": "LayoutModel",
     "state": {
      "_model_module": "@jupyter-widgets/base",
      "_model_module_version": "1.2.0",
      "_model_name": "LayoutModel",
      "_view_count": null,
      "_view_module": "@jupyter-widgets/base",
      "_view_module_version": "1.2.0",
      "_view_name": "LayoutView",
      "align_content": null,
      "align_items": null,
      "align_self": null,
      "border": null,
      "bottom": null,
      "display": null,
      "flex": null,
      "flex_flow": null,
      "grid_area": null,
      "grid_auto_columns": null,
      "grid_auto_flow": null,
      "grid_auto_rows": null,
      "grid_column": null,
      "grid_gap": null,
      "grid_row": null,
      "grid_template_areas": null,
      "grid_template_columns": null,
      "grid_template_rows": null,
      "height": null,
      "justify_content": null,
      "justify_items": null,
      "left": null,
      "margin": null,
      "max_height": null,
      "max_width": null,
      "min_height": null,
      "min_width": null,
      "object_fit": null,
      "object_position": null,
      "order": null,
      "overflow": null,
      "overflow_x": null,
      "overflow_y": null,
      "padding": null,
      "right": null,
      "top": null,
      "visibility": null,
      "width": null
     }
    },
    "87a581c6cbf345efaa3b05affd12ded9": {
     "model_module": "@jupyter-widgets/controls",
     "model_module_version": "1.5.0",
     "model_name": "HTMLModel",
     "state": {
      "_dom_classes": [],
      "_model_module": "@jupyter-widgets/controls",
      "_model_module_version": "1.5.0",
      "_model_name": "HTMLModel",
      "_view_count": null,
      "_view_module": "@jupyter-widgets/controls",
      "_view_module_version": "1.5.0",
      "_view_name": "HTMLView",
      "description": "",
      "description_tooltip": null,
      "layout": "IPY_MODEL_d79feb55e63a426e8d6cddc45579098f",
      "placeholder": "​",
      "style": "IPY_MODEL_630d41e16e844d2a9802fa87bea3e15f",
      "value": "Generate report structure: 100%"
     }
    },
    "8b42a4ce42b546f79171f615e1cf65d3": {
     "model_module": "@jupyter-widgets/controls",
     "model_module_version": "1.5.0",
     "model_name": "HTMLModel",
     "state": {
      "_dom_classes": [],
      "_model_module": "@jupyter-widgets/controls",
      "_model_module_version": "1.5.0",
      "_model_name": "HTMLModel",
      "_view_count": null,
      "_view_module": "@jupyter-widgets/controls",
      "_view_module_version": "1.5.0",
      "_view_name": "HTMLView",
      "description": "",
      "description_tooltip": null,
      "layout": "IPY_MODEL_a3a4892351d44befa499e5a7a4263bde",
      "placeholder": "​",
      "style": "IPY_MODEL_49cf14e6705540e2b4256a4d855e83b3",
      "value": " 1/1 [00:04&lt;00:00,  4.06s/it]"
     }
    },
    "a3a4892351d44befa499e5a7a4263bde": {
     "model_module": "@jupyter-widgets/base",
     "model_module_version": "1.2.0",
     "model_name": "LayoutModel",
     "state": {
      "_model_module": "@jupyter-widgets/base",
      "_model_module_version": "1.2.0",
      "_model_name": "LayoutModel",
      "_view_count": null,
      "_view_module": "@jupyter-widgets/base",
      "_view_module_version": "1.2.0",
      "_view_name": "LayoutView",
      "align_content": null,
      "align_items": null,
      "align_self": null,
      "border": null,
      "bottom": null,
      "display": null,
      "flex": null,
      "flex_flow": null,
      "grid_area": null,
      "grid_auto_columns": null,
      "grid_auto_flow": null,
      "grid_auto_rows": null,
      "grid_column": null,
      "grid_gap": null,
      "grid_row": null,
      "grid_template_areas": null,
      "grid_template_columns": null,
      "grid_template_rows": null,
      "height": null,
      "justify_content": null,
      "justify_items": null,
      "left": null,
      "margin": null,
      "max_height": null,
      "max_width": null,
      "min_height": null,
      "min_width": null,
      "object_fit": null,
      "object_position": null,
      "order": null,
      "overflow": null,
      "overflow_x": null,
      "overflow_y": null,
      "padding": null,
      "right": null,
      "top": null,
      "visibility": null,
      "width": null
     }
    },
    "b070cbb3163e426b904ee6f38ee785b0": {
     "model_module": "@jupyter-widgets/controls",
     "model_module_version": "1.5.0",
     "model_name": "HTMLModel",
     "state": {
      "_dom_classes": [],
      "_model_module": "@jupyter-widgets/controls",
      "_model_module_version": "1.5.0",
      "_model_name": "HTMLModel",
      "_view_count": null,
      "_view_module": "@jupyter-widgets/controls",
      "_view_module_version": "1.5.0",
      "_view_name": "HTMLView",
      "description": "",
      "description_tooltip": null,
      "layout": "IPY_MODEL_d102a64b2db24e40b0ba4573a36724b2",
      "placeholder": "​",
      "style": "IPY_MODEL_0d554383e87e4368a19e13c7ec9c4ba8",
      "value": "Render HTML: 100%"
     }
    },
    "bd27381ffb704736bddfdc253d4aa03e": {
     "model_module": "@jupyter-widgets/base",
     "model_module_version": "1.2.0",
     "model_name": "LayoutModel",
     "state": {
      "_model_module": "@jupyter-widgets/base",
      "_model_module_version": "1.2.0",
      "_model_name": "LayoutModel",
      "_view_count": null,
      "_view_module": "@jupyter-widgets/base",
      "_view_module_version": "1.2.0",
      "_view_name": "LayoutView",
      "align_content": null,
      "align_items": null,
      "align_self": null,
      "border": null,
      "bottom": null,
      "display": null,
      "flex": null,
      "flex_flow": null,
      "grid_area": null,
      "grid_auto_columns": null,
      "grid_auto_flow": null,
      "grid_auto_rows": null,
      "grid_column": null,
      "grid_gap": null,
      "grid_row": null,
      "grid_template_areas": null,
      "grid_template_columns": null,
      "grid_template_rows": null,
      "height": null,
      "justify_content": null,
      "justify_items": null,
      "left": null,
      "margin": null,
      "max_height": null,
      "max_width": null,
      "min_height": null,
      "min_width": null,
      "object_fit": null,
      "object_position": null,
      "order": null,
      "overflow": null,
      "overflow_x": null,
      "overflow_y": null,
      "padding": null,
      "right": null,
      "top": null,
      "visibility": null,
      "width": null
     }
    },
    "be609e6b8fa74a37b857c30cde3bc4da": {
     "model_module": "@jupyter-widgets/controls",
     "model_module_version": "1.5.0",
     "model_name": "HTMLModel",
     "state": {
      "_dom_classes": [],
      "_model_module": "@jupyter-widgets/controls",
      "_model_module_version": "1.5.0",
      "_model_name": "HTMLModel",
      "_view_count": null,
      "_view_module": "@jupyter-widgets/controls",
      "_view_module_version": "1.5.0",
      "_view_name": "HTMLView",
      "description": "",
      "description_tooltip": null,
      "layout": "IPY_MODEL_01fdcd1b855343f7827307f80bdeb8b5",
      "placeholder": "​",
      "style": "IPY_MODEL_deb380f1c5fe4c588390deae55e2fdba",
      "value": " 130/130 [01:00&lt;00:00,  2.38it/s, Completed]"
     }
    },
    "c0081c30cb574c7b8ff7e95fa1850b48": {
     "model_module": "@jupyter-widgets/controls",
     "model_module_version": "1.5.0",
     "model_name": "ProgressStyleModel",
     "state": {
      "_model_module": "@jupyter-widgets/controls",
      "_model_module_version": "1.5.0",
      "_model_name": "ProgressStyleModel",
      "_view_count": null,
      "_view_module": "@jupyter-widgets/base",
      "_view_module_version": "1.2.0",
      "_view_name": "StyleView",
      "bar_color": null,
      "description_width": ""
     }
    },
    "cff23a8aa53c4caaa1636b19b58485f1": {
     "model_module": "@jupyter-widgets/controls",
     "model_module_version": "1.5.0",
     "model_name": "ProgressStyleModel",
     "state": {
      "_model_module": "@jupyter-widgets/controls",
      "_model_module_version": "1.5.0",
      "_model_name": "ProgressStyleModel",
      "_view_count": null,
      "_view_module": "@jupyter-widgets/base",
      "_view_module_version": "1.2.0",
      "_view_name": "StyleView",
      "bar_color": null,
      "description_width": ""
     }
    },
    "d034f98b9b07481d9f33344174d8b436": {
     "model_module": "@jupyter-widgets/base",
     "model_module_version": "1.2.0",
     "model_name": "LayoutModel",
     "state": {
      "_model_module": "@jupyter-widgets/base",
      "_model_module_version": "1.2.0",
      "_model_name": "LayoutModel",
      "_view_count": null,
      "_view_module": "@jupyter-widgets/base",
      "_view_module_version": "1.2.0",
      "_view_name": "LayoutView",
      "align_content": null,
      "align_items": null,
      "align_self": null,
      "border": null,
      "bottom": null,
      "display": null,
      "flex": null,
      "flex_flow": null,
      "grid_area": null,
      "grid_auto_columns": null,
      "grid_auto_flow": null,
      "grid_auto_rows": null,
      "grid_column": null,
      "grid_gap": null,
      "grid_row": null,
      "grid_template_areas": null,
      "grid_template_columns": null,
      "grid_template_rows": null,
      "height": null,
      "justify_content": null,
      "justify_items": null,
      "left": null,
      "margin": null,
      "max_height": null,
      "max_width": null,
      "min_height": null,
      "min_width": null,
      "object_fit": null,
      "object_position": null,
      "order": null,
      "overflow": null,
      "overflow_x": null,
      "overflow_y": null,
      "padding": null,
      "right": null,
      "top": null,
      "visibility": null,
      "width": null
     }
    },
    "d102a64b2db24e40b0ba4573a36724b2": {
     "model_module": "@jupyter-widgets/base",
     "model_module_version": "1.2.0",
     "model_name": "LayoutModel",
     "state": {
      "_model_module": "@jupyter-widgets/base",
      "_model_module_version": "1.2.0",
      "_model_name": "LayoutModel",
      "_view_count": null,
      "_view_module": "@jupyter-widgets/base",
      "_view_module_version": "1.2.0",
      "_view_name": "LayoutView",
      "align_content": null,
      "align_items": null,
      "align_self": null,
      "border": null,
      "bottom": null,
      "display": null,
      "flex": null,
      "flex_flow": null,
      "grid_area": null,
      "grid_auto_columns": null,
      "grid_auto_flow": null,
      "grid_auto_rows": null,
      "grid_column": null,
      "grid_gap": null,
      "grid_row": null,
      "grid_template_areas": null,
      "grid_template_columns": null,
      "grid_template_rows": null,
      "height": null,
      "justify_content": null,
      "justify_items": null,
      "left": null,
      "margin": null,
      "max_height": null,
      "max_width": null,
      "min_height": null,
      "min_width": null,
      "object_fit": null,
      "object_position": null,
      "order": null,
      "overflow": null,
      "overflow_x": null,
      "overflow_y": null,
      "padding": null,
      "right": null,
      "top": null,
      "visibility": null,
      "width": null
     }
    },
    "d6aa8b4dd61643f685603567d6b1be77": {
     "model_module": "@jupyter-widgets/controls",
     "model_module_version": "1.5.0",
     "model_name": "HBoxModel",
     "state": {
      "_dom_classes": [],
      "_model_module": "@jupyter-widgets/controls",
      "_model_module_version": "1.5.0",
      "_model_name": "HBoxModel",
      "_view_count": null,
      "_view_module": "@jupyter-widgets/controls",
      "_view_module_version": "1.5.0",
      "_view_name": "HBoxView",
      "box_style": "",
      "children": [
       "IPY_MODEL_541f1814f95f47418b6698cf3dce0ad1",
       "IPY_MODEL_1df482dd753e46e6b8e8727c70e7eff7",
       "IPY_MODEL_be609e6b8fa74a37b857c30cde3bc4da"
      ],
      "layout": "IPY_MODEL_1aea8614ff3846509043ece19338ef7d"
     }
    },
    "d79feb55e63a426e8d6cddc45579098f": {
     "model_module": "@jupyter-widgets/base",
     "model_module_version": "1.2.0",
     "model_name": "LayoutModel",
     "state": {
      "_model_module": "@jupyter-widgets/base",
      "_model_module_version": "1.2.0",
      "_model_name": "LayoutModel",
      "_view_count": null,
      "_view_module": "@jupyter-widgets/base",
      "_view_module_version": "1.2.0",
      "_view_name": "LayoutView",
      "align_content": null,
      "align_items": null,
      "align_self": null,
      "border": null,
      "bottom": null,
      "display": null,
      "flex": null,
      "flex_flow": null,
      "grid_area": null,
      "grid_auto_columns": null,
      "grid_auto_flow": null,
      "grid_auto_rows": null,
      "grid_column": null,
      "grid_gap": null,
      "grid_row": null,
      "grid_template_areas": null,
      "grid_template_columns": null,
      "grid_template_rows": null,
      "height": null,
      "justify_content": null,
      "justify_items": null,
      "left": null,
      "margin": null,
      "max_height": null,
      "max_width": null,
      "min_height": null,
      "min_width": null,
      "object_fit": null,
      "object_position": null,
      "order": null,
      "overflow": null,
      "overflow_x": null,
      "overflow_y": null,
      "padding": null,
      "right": null,
      "top": null,
      "visibility": null,
      "width": null
     }
    },
    "deb380f1c5fe4c588390deae55e2fdba": {
     "model_module": "@jupyter-widgets/controls",
     "model_module_version": "1.5.0",
     "model_name": "DescriptionStyleModel",
     "state": {
      "_model_module": "@jupyter-widgets/controls",
      "_model_module_version": "1.5.0",
      "_model_name": "DescriptionStyleModel",
      "_view_count": null,
      "_view_module": "@jupyter-widgets/base",
      "_view_module_version": "1.2.0",
      "_view_name": "StyleView",
      "description_width": ""
     }
    },
    "e42fd8c6deb34eec8abf3ffbce139368": {
     "model_module": "@jupyter-widgets/controls",
     "model_module_version": "1.5.0",
     "model_name": "HBoxModel",
     "state": {
      "_dom_classes": [],
      "_model_module": "@jupyter-widgets/controls",
      "_model_module_version": "1.5.0",
      "_model_name": "HBoxModel",
      "_view_count": null,
      "_view_module": "@jupyter-widgets/controls",
      "_view_module_version": "1.5.0",
      "_view_name": "HBoxView",
      "box_style": "",
      "children": [
       "IPY_MODEL_87a581c6cbf345efaa3b05affd12ded9",
       "IPY_MODEL_fa3617b0fd2c4a1e9656717f156ae549",
       "IPY_MODEL_17ef48a33afd4d08badd4debabfb525a"
      ],
      "layout": "IPY_MODEL_bd27381ffb704736bddfdc253d4aa03e"
     }
    },
    "fa3617b0fd2c4a1e9656717f156ae549": {
     "model_module": "@jupyter-widgets/controls",
     "model_module_version": "1.5.0",
     "model_name": "FloatProgressModel",
     "state": {
      "_dom_classes": [],
      "_model_module": "@jupyter-widgets/controls",
      "_model_module_version": "1.5.0",
      "_model_name": "FloatProgressModel",
      "_view_count": null,
      "_view_module": "@jupyter-widgets/controls",
      "_view_module_version": "1.5.0",
      "_view_name": "ProgressView",
      "bar_style": "success",
      "description": "",
      "description_tooltip": null,
      "layout": "IPY_MODEL_42c6708ab80b4cc0a9a59ae3877f5213",
      "max": 1,
      "min": 0,
      "orientation": "horizontal",
      "style": "IPY_MODEL_3c3170d17f924115a0ba9c993504e593",
      "value": 1
     }
    }
   }
  }
 },
 "nbformat": 4,
 "nbformat_minor": 4
}
